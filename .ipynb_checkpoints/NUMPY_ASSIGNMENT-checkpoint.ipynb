{
 "cells": [
  {
   "cell_type": "code",
   "execution_count": 1,
   "id": "cf57e2d1-6a3c-43c4-9821-112e86550f13",
   "metadata": {},
   "outputs": [],
   "source": [
    "#1 >> Create a numPy array 'arr' of integer from 0 to 5 and print its data type.\n",
    "import numpy as np\n",
    "import random"
   ]
  },
  {
   "cell_type": "code",
   "execution_count": 2,
   "id": "fa0b88f2-e9c3-43ef-8776-535b11a8c873",
   "metadata": {},
   "outputs": [],
   "source": [
    "arr=np.arange(0,6) # To find the number in sequential order"
   ]
  },
  {
   "cell_type": "code",
   "execution_count": 3,
   "id": "31487c4b-b721-42e7-98a5-0c7a80a555b5",
   "metadata": {},
   "outputs": [
    {
     "data": {
      "text/plain": [
       "array([0, 1, 2, 3, 4, 5])"
      ]
     },
     "execution_count": 3,
     "metadata": {},
     "output_type": "execute_result"
    }
   ],
   "source": [
    "arr"
   ]
  },
  {
   "cell_type": "code",
   "execution_count": 5,
   "id": "387530f4-4e29-49a7-98aa-d4a80812d6f4",
   "metadata": {},
   "outputs": [
    {
     "data": {
      "text/plain": [
       "dtype('int64')"
      ]
     },
     "execution_count": 5,
     "metadata": {},
     "output_type": "execute_result"
    }
   ],
   "source": [
    "arr.dtype  # To find the data type\n"
   ]
  },
  {
   "cell_type": "code",
   "execution_count": 6,
   "id": "f9461a70-e94e-4fe8-8760-a5913a3490a7",
   "metadata": {},
   "outputs": [],
   "source": [
    "#2 >>>> Given a numPy array 'arr',check if its data type is float64.\n",
    "arr=np.array([1.5,2.6,3.7])"
   ]
  },
  {
   "cell_type": "code",
   "execution_count": 7,
   "id": "f9c9ec17-3a85-4f41-9265-3b5f355c9076",
   "metadata": {},
   "outputs": [
    {
     "data": {
      "text/plain": [
       "array([1.5, 2.6, 3.7])"
      ]
     },
     "execution_count": 7,
     "metadata": {},
     "output_type": "execute_result"
    }
   ],
   "source": [
    "arr"
   ]
  },
  {
   "cell_type": "code",
   "execution_count": 8,
   "id": "0fd7f739-1709-44a4-a133-d4e68dbcdae4",
   "metadata": {},
   "outputs": [
    {
     "data": {
      "text/plain": [
       "dtype('float64')"
      ]
     },
     "execution_count": 8,
     "metadata": {},
     "output_type": "execute_result"
    }
   ],
   "source": [
    "arr.dtype"
   ]
  },
  {
   "cell_type": "code",
   "execution_count": 9,
   "id": "faa489e5-0e60-424b-9514-853fb4ede113",
   "metadata": {},
   "outputs": [],
   "source": [
    "# yes the data type is float64"
   ]
  },
  {
   "cell_type": "code",
   "execution_count": 10,
   "id": "3bea9086-37f5-436c-83c3-c0d55cf6be92",
   "metadata": {},
   "outputs": [],
   "source": [
    "#3 >>>> Create a numPy array 'arr' with a data type of complex 128 cointaining three complex number.\n",
    "list1=[5+6j,8+5j,9+2j]"
   ]
  },
  {
   "cell_type": "code",
   "execution_count": 11,
   "id": "a6dc69ed-e9dd-4104-91b0-db7243e0db9c",
   "metadata": {},
   "outputs": [
    {
     "data": {
      "text/plain": [
       "array([5.+6.j, 8.+5.j, 9.+2.j])"
      ]
     },
     "execution_count": 11,
     "metadata": {},
     "output_type": "execute_result"
    }
   ],
   "source": [
    "arr=np.asarray(list1)\n",
    "arr"
   ]
  },
  {
   "cell_type": "code",
   "execution_count": 12,
   "id": "6d855b93-d341-4cbb-ac1d-ef6dbe0e8ec1",
   "metadata": {},
   "outputs": [
    {
     "data": {
      "text/plain": [
       "array([1, 2, 3, 4])"
      ]
     },
     "execution_count": 12,
     "metadata": {},
     "output_type": "execute_result"
    }
   ],
   "source": [
    "#4 >>>> Convert an existing numPy array 'arr' of integers to float32 data type.\n",
    "arr=np.arange(1,5)\n",
    "arr"
   ]
  },
  {
   "cell_type": "code",
   "execution_count": 13,
   "id": "0ac85cf7-62d6-43be-8d4b-67a810df125a",
   "metadata": {},
   "outputs": [
    {
     "data": {
      "text/plain": [
       "dtype('int64')"
      ]
     },
     "execution_count": 13,
     "metadata": {},
     "output_type": "execute_result"
    }
   ],
   "source": [
    "arr.dtype"
   ]
  },
  {
   "cell_type": "code",
   "execution_count": 14,
   "id": "21630e11-0430-4909-ab15-96dd848ff5fe",
   "metadata": {},
   "outputs": [],
   "source": [
    "arr1=arr.astype(np.float32) # To changfe the data type of an array"
   ]
  },
  {
   "cell_type": "code",
   "execution_count": 15,
   "id": "6c83058a-e162-4b41-9851-a7e366be6bda",
   "metadata": {},
   "outputs": [
    {
     "data": {
      "text/plain": [
       "array([1., 2., 3., 4.], dtype=float32)"
      ]
     },
     "execution_count": 15,
     "metadata": {},
     "output_type": "execute_result"
    }
   ],
   "source": [
    "arr1"
   ]
  },
  {
   "cell_type": "code",
   "execution_count": 16,
   "id": "9d1d53a3-b078-4d19-9a9c-98bf136640bf",
   "metadata": {},
   "outputs": [
    {
     "data": {
      "text/plain": [
       "dtype('float32')"
      ]
     },
     "execution_count": 16,
     "metadata": {},
     "output_type": "execute_result"
    }
   ],
   "source": [
    "arr1.dtype"
   ]
  },
  {
   "cell_type": "code",
   "execution_count": 17,
   "id": "3e3580c7-25bd-4b8d-955a-e8f9fa87ce0d",
   "metadata": {},
   "outputs": [
    {
     "data": {
      "text/plain": [
       "array([1.55, 1.43, 1.31, 1.23])"
      ]
     },
     "execution_count": 17,
     "metadata": {},
     "output_type": "execute_result"
    }
   ],
   "source": [
    "#5 >>>>> Given a numpy array 'arr' with float64 data type, convert it into float32 to reduce the decimal precision.\n",
    "list2=[1.55,1.43,1.31,1.23]\n",
    "arr1=np.asarray(list2)\n",
    "arr1"
   ]
  },
  {
   "cell_type": "code",
   "execution_count": 18,
   "id": "1b182e0f-544d-4fb7-bed6-135c73cb2694",
   "metadata": {},
   "outputs": [
    {
     "data": {
      "text/plain": [
       "dtype('float64')"
      ]
     },
     "execution_count": 18,
     "metadata": {},
     "output_type": "execute_result"
    }
   ],
   "source": [
    "arr1.dtype"
   ]
  },
  {
   "cell_type": "code",
   "execution_count": 19,
   "id": "492ed01f-45aa-47a7-8f6c-084d2ebd95a8",
   "metadata": {},
   "outputs": [],
   "source": [
    "arr=arr1.astype(np.float32)"
   ]
  },
  {
   "cell_type": "code",
   "execution_count": 20,
   "id": "b9248450-fda0-4b22-9223-6c0ebe86a2de",
   "metadata": {},
   "outputs": [
    {
     "data": {
      "text/plain": [
       "array([1.55, 1.43, 1.31, 1.23], dtype=float32)"
      ]
     },
     "execution_count": 20,
     "metadata": {},
     "output_type": "execute_result"
    }
   ],
   "source": [
    "arr"
   ]
  },
  {
   "cell_type": "code",
   "execution_count": 21,
   "id": "0dd247ad-6ef7-428a-8610-12a187ac6f35",
   "metadata": {},
   "outputs": [],
   "source": [
    "#6 >>>>> Write a function array_attributes that takes a numPy array as input and return its shape,size and data type.\n",
    "def Arr_attributes(arr):\n",
    "    shape=arr.shape\n",
    "    size=arr.size\n",
    "    datatype=arr.dtype\n",
    "    return shape, size, datatype\n",
    "    "
   ]
  },
  {
   "cell_type": "code",
   "execution_count": 22,
   "id": "50ef9b8b-3727-496d-aef5-8eaf91c6e486",
   "metadata": {},
   "outputs": [
    {
     "data": {
      "text/plain": [
       "((5,), 5, dtype('int64'))"
      ]
     },
     "execution_count": 22,
     "metadata": {},
     "output_type": "execute_result"
    }
   ],
   "source": [
    "arr=np.asarray([1,2,3,4,5])\n",
    "Arr_attributes(arr)"
   ]
  },
  {
   "cell_type": "code",
   "execution_count": 23,
   "id": "d7894cd4-2399-45ca-aa57-56b6bb919a8c",
   "metadata": {},
   "outputs": [
    {
     "data": {
      "text/plain": [
       "1"
      ]
     },
     "execution_count": 23,
     "metadata": {},
     "output_type": "execute_result"
    }
   ],
   "source": [
    "#7  >>> Create a function array_dimension that takes a numPy array as input and return its dimensionally.\n",
    "def Array_dimension(arr):\n",
    "    dimension=arr.ndim\n",
    "    return dimension\n",
    "arr=np.asarray([1,2,3])\n",
    "Array_dimension(arr)"
   ]
  },
  {
   "cell_type": "code",
   "execution_count": 24,
   "id": "f3dd56eb-838f-4190-aeb2-59ef587f2a92",
   "metadata": {},
   "outputs": [],
   "source": [
    "#8 >>> Design a function item_size_info that takes a nimPy array as input and returns the items size and the total size in bytes"
   ]
  },
  {
   "cell_type": "code",
   "execution_count": 25,
   "id": "6f5ebc9e-4691-4943-ad33-4bfb06da9a98",
   "metadata": {},
   "outputs": [
    {
     "data": {
      "text/plain": [
       "(array([ 72057594037927936, 216172782113783808, 288230376151711744,\n",
       "        360287970189639680, 432345564227567616, 504403158265495552,\n",
       "        576460752303423488]),\n",
       " 56)"
      ]
     },
     "execution_count": 25,
     "metadata": {},
     "output_type": "execute_result"
    }
   ],
   "source": [
    "def Item_size_info(arr):\n",
    "    item_size=arr.byteswap()\n",
    "    total_size=arr.nbytes\n",
    "    return item_size,total_size\n",
    "arr=np.asarray([1,3,4,5,6,7,8])\n",
    "Item_size_info(arr)"
   ]
  },
  {
   "cell_type": "code",
   "execution_count": 26,
   "id": "9df063bc-349b-4384-af70-7ca7a7848d25",
   "metadata": {},
   "outputs": [],
   "source": [
    "#9 >>>> Create a function that array_strides that takes a numPy array as input and return the strides of the array.\n",
    "def Array_strides(arr):\n",
    "    strides=arr.strides\n",
    "    return strides"
   ]
  },
  {
   "cell_type": "code",
   "execution_count": 27,
   "id": "44db0e28-73b5-4745-8a11-e0b31ce1d2b8",
   "metadata": {},
   "outputs": [
    {
     "data": {
      "text/plain": [
       "(8,)"
      ]
     },
     "execution_count": 27,
     "metadata": {},
     "output_type": "execute_result"
    }
   ],
   "source": [
    "Array_strides(np.asarray([1,2,3,45]))"
   ]
  },
  {
   "cell_type": "code",
   "execution_count": 28,
   "id": "c606db1c-9d30-4504-a798-521aa7678dd5",
   "metadata": {},
   "outputs": [],
   "source": [
    "#10 >>>>> Design a function shape_stride_relationship that takes a numPy array as input and return the shape and strides of the array"
   ]
  },
  {
   "cell_type": "code",
   "execution_count": 29,
   "id": "6f58bd6d-2801-4bde-bc56-9c9adf2478f2",
   "metadata": {},
   "outputs": [
    {
     "data": {
      "text/plain": [
       "((4,), (8,))"
      ]
     },
     "execution_count": 29,
     "metadata": {},
     "output_type": "execute_result"
    }
   ],
   "source": [
    "def Shape_stride_relationship(arr):\n",
    "    shape=arr.shape\n",
    "    strides=arr.strides\n",
    "    return shape,strides\n",
    "Shape_stride_relationship(np.asarray([1,2,3,44]))"
   ]
  },
  {
   "cell_type": "code",
   "execution_count": 30,
   "id": "bf7e1bce-6b2c-46c2-bba7-b467776f7e57",
   "metadata": {},
   "outputs": [
    {
     "data": {
      "text/plain": [
       "array([0., 0., 0., 0., 0.])"
      ]
     },
     "execution_count": 30,
     "metadata": {},
     "output_type": "execute_result"
    }
   ],
   "source": [
    "#11. Create  a function 'create_ones_matrix' that takes an integer 'n' as input and return a NumPy array of zeros with 'n' elements.\n",
    "def Create_ones_matrix(n):\n",
    "    matrix=np.zeros(n)\n",
    "    return matrix\n",
    "Create_ones_matrix(5)"
   ]
  },
  {
   "cell_type": "code",
   "execution_count": 31,
   "id": "29bfe94b-996f-431e-a843-6c33159b0c3b",
   "metadata": {},
   "outputs": [
    {
     "data": {
      "text/plain": [
       "array([[1., 1.],\n",
       "       [1., 1.]])"
      ]
     },
     "execution_count": 31,
     "metadata": {},
     "output_type": "execute_result"
    }
   ],
   "source": [
    "#12 >>>>> Write a function 'create_ones_matrix' that takes integers 'rows' and 'cols' as input and generates a 2D NumPy array filled with ones of size \"rows*cols\".\n",
    "def Create_ones_matrix(n,m):\n",
    "    matrix=np.ones((n,m))\n",
    "    return matrix\n",
    "Create_ones_matrix(2,2)"
   ]
  },
  {
   "cell_type": "code",
   "execution_count": 32,
   "id": "800e2d75-fa20-4cdb-9147-dda98179a78d",
   "metadata": {},
   "outputs": [
    {
     "data": {
      "text/plain": [
       "array([1, 3])"
      ]
     },
     "execution_count": 32,
     "metadata": {},
     "output_type": "execute_result"
    }
   ],
   "source": [
    "#13 >>>> Write a function 'generate_range_array' that takes three integers start,stops,and steps as arguments and creates a NumPy array with a range strating from 'start',ending or stop(exclusive),and with the specified 'steps'.\n",
    "def Generate_range_array(start,stop,step):\n",
    "    number=np.arange(start,stop,step)\n",
    "    return number\n",
    "Generate_range_array(1,5,2)"
   ]
  },
  {
   "cell_type": "code",
   "execution_count": 33,
   "id": "4331c917-5d9b-49fe-a959-a52251c3a043",
   "metadata": {},
   "outputs": [
    {
     "data": {
      "text/plain": [
       "array([1, 2, 3, 4, 5, 6, 7, 8, 9])"
      ]
     },
     "execution_count": 33,
     "metadata": {},
     "output_type": "execute_result"
    }
   ],
   "source": [
    "#14 >>>> Design a function 'generate_linear_space' that takes two float 'start','stop' and an integer 'num' as arguments and generates a Numpy array wiyh num equally spaced vlaues between 'start'and 'stop'(inclusive).\n",
    "def Generate_linear_space(start,stop):\n",
    "    matrix=np.arange(start,stop)\n",
    "    return matrix\n",
    "Generate_linear_space(1,10)"
   ]
  },
  {
   "cell_type": "code",
   "execution_count": 34,
   "id": "56ab0326-2193-4d6c-97ea-1d5c2fdf759d",
   "metadata": {},
   "outputs": [
    {
     "data": {
      "text/plain": [
       "array([[1., 0., 0.],\n",
       "       [0., 1., 0.],\n",
       "       [0., 0., 1.]])"
      ]
     },
     "execution_count": 34,
     "metadata": {},
     "output_type": "execute_result"
    }
   ],
   "source": [
    "#15 >>>> Create a function \"create_identity_matrix\" that takes an integer 'n' as input and generates a square identity matrix of size 'n*n\" using numpy.eye\n",
    "def Create_identity_matrix(n,m):\n",
    "    matrix=np.eye(n,m)\n",
    "    return matrix\n",
    "Create_identity_matrix(3,3)"
   ]
  },
  {
   "cell_type": "code",
   "execution_count": 35,
   "id": "3b155ac3-c1d1-481b-9116-b1284c6bf3b4",
   "metadata": {},
   "outputs": [
    {
     "data": {
      "text/plain": [
       "array([1, 2, 3, 4, 5])"
      ]
     },
     "execution_count": 35,
     "metadata": {},
     "output_type": "execute_result"
    }
   ],
   "source": [
    "#16 >>> Write a function that takes a python list and convert it into a NumPy array.\n",
    "def Covert_list(list1):\n",
    "    arr=np.asarray(list1)\n",
    "    return arr\n",
    "Covert_list([1,2,3,4,5])"
   ]
  },
  {
   "cell_type": "code",
   "execution_count": 36,
   "id": "0f7c334f-d7af-490a-8346-1044c37507b9",
   "metadata": {},
   "outputs": [
    {
     "data": {
      "text/plain": [
       "dtype('int64')"
      ]
     },
     "execution_count": 36,
     "metadata": {},
     "output_type": "execute_result"
    }
   ],
   "source": [
    "arr.dtype"
   ]
  },
  {
   "cell_type": "code",
   "execution_count": 37,
   "id": "cd54861a-f2a5-4a67-9c17-9a7e5db136aa",
   "metadata": {},
   "outputs": [
    {
     "data": {
      "text/plain": [
       "array([11, 22, 33, 45])"
      ]
     },
     "execution_count": 37,
     "metadata": {},
     "output_type": "execute_result"
    }
   ],
   "source": [
    "#17 >>>>> Create a NumPy array and demonstrate the used of 'numpy.view' to create a new array object with the same data.\n",
    "list4=[11,22,33,45]\n",
    "arr=np.asarray(list4)\n",
    "arr.view()"
   ]
  },
  {
   "cell_type": "code",
   "execution_count": 38,
   "id": "5b24b329-84f7-4570-9aaa-c7153f5229e7",
   "metadata": {},
   "outputs": [
    {
     "data": {
      "text/plain": [
       "array([[2, 4],\n",
       "       [6, 8],\n",
       "       [3, 4],\n",
       "       [4, 8]])"
      ]
     },
     "execution_count": 38,
     "metadata": {},
     "output_type": "execute_result"
    }
   ],
   "source": [
    "#18 >>> Write a function that takes two NumPy arrays and concentenates them along a specified axis.\n",
    "arr1=np.asarray([[2,4],[6,8]])\n",
    "arr2=np.asarray([[3,4],[4,8]])\n",
    "np.concatenate((arr1,arr2),axis=0)\n"
   ]
  },
  {
   "cell_type": "code",
   "execution_count": 39,
   "id": "f6016b24-d7a6-477d-b84a-941d8b9ed4c7",
   "metadata": {},
   "outputs": [
    {
     "data": {
      "text/plain": [
       "array([[2, 4],\n",
       "       [6, 8],\n",
       "       [3, 4],\n",
       "       [4, 8]])"
      ]
     },
     "execution_count": 39,
     "metadata": {},
     "output_type": "execute_result"
    }
   ],
   "source": [
    "#18 >>> Write a function that takes two NumPy arrays and concentenates them along a specified axis.\n",
    "def Conc(arr1,arr2):\n",
    "    conc1=np.concatenate((arr1,arr2),axis=0)\n",
    "    return conc1\n",
    "    \n",
    "    \n",
    "Conc(np.asarray([[2,4],[6,8]]),np.asarray([[3,4],[4,8]]))"
   ]
  },
  {
   "cell_type": "code",
   "execution_count": 40,
   "id": "327127d6-9237-4979-87fb-4b1a3567e190",
   "metadata": {},
   "outputs": [
    {
     "data": {
      "text/plain": [
       "array([[1., 1.],\n",
       "       [1., 1.]])"
      ]
     },
     "execution_count": 40,
     "metadata": {},
     "output_type": "execute_result"
    }
   ],
   "source": [
    "#19 >>>> Create two numpy array with different shapes and concatenate them horizontally using 'numpy.concatenate'.\n",
    "arr1=np.ones((2,2))\n",
    "arr1"
   ]
  },
  {
   "cell_type": "code",
   "execution_count": 41,
   "id": "d6bfadf9-4bc2-40da-8c47-b2a87a530388",
   "metadata": {},
   "outputs": [
    {
     "data": {
      "text/plain": [
       "array([[0., 0., 0.],\n",
       "       [0., 0., 0.],\n",
       "       [0., 0., 0.]])"
      ]
     },
     "execution_count": 41,
     "metadata": {},
     "output_type": "execute_result"
    }
   ],
   "source": [
    "arr2=np.zeros((3,3))\n",
    "arr2\n"
   ]
  },
  {
   "cell_type": "code",
   "execution_count": 42,
   "id": "839b1e20-7475-41db-8cf8-2438e4625f81",
   "metadata": {},
   "outputs": [
    {
     "data": {
      "text/plain": [
       "array([1., 1., 1., 1., 0., 0., 0., 0., 0., 0., 0., 0., 0.])"
      ]
     },
     "execution_count": 42,
     "metadata": {},
     "output_type": "execute_result"
    }
   ],
   "source": [
    "np.concatenate((arr1,arr2),axis=None)"
   ]
  },
  {
   "cell_type": "code",
   "execution_count": 43,
   "id": "dea71242-a74d-4190-a8ad-e903f3db9520",
   "metadata": {},
   "outputs": [
    {
     "data": {
      "text/plain": [
       "array([[0., 0., 0.],\n",
       "       [0., 0., 0.],\n",
       "       [1., 1., 1.],\n",
       "       [1., 1., 1.]])"
      ]
     },
     "execution_count": 43,
     "metadata": {},
     "output_type": "execute_result"
    }
   ],
   "source": [
    "#20 >>>>> Write a function that vertically stacks muntiple numpy arrays given in a list.\n",
    "a=np.zeros((2,3))\n",
    "b=np.ones((2,3))\n",
    "np.concatenate((a,b),axis=0)"
   ]
  },
  {
   "cell_type": "code",
   "execution_count": 44,
   "id": "07a02b8f-63b7-4397-ba04-6f8f8a71f15e",
   "metadata": {},
   "outputs": [
    {
     "data": {
      "text/plain": [
       "array([ 1,  4,  7, 10, 13, 16, 19])"
      ]
     },
     "execution_count": 44,
     "metadata": {},
     "output_type": "execute_result"
    }
   ],
   "source": [
    "#21 >>>> Write a Python function using NumPy to create an array of integers within a specified range (inclusive) with a given step size.\n",
    "def Create_arr(a,b,c):\n",
    "    arr1=np.arange(a,b,c)\n",
    "    return arr1\n",
    "Create_arr(1,20,3)"
   ]
  },
  {
   "cell_type": "code",
   "execution_count": 45,
   "id": "e40aa2f2-b73a-431b-9063-45960c7ee859",
   "metadata": {},
   "outputs": [
    {
     "data": {
      "text/plain": [
       "array([0.        , 0.11111111, 0.22222222, 0.33333333, 0.44444444,\n",
       "       0.55555556, 0.66666667, 0.77777778, 0.88888889, 1.        ])"
      ]
     },
     "execution_count": 45,
     "metadata": {},
     "output_type": "execute_result"
    }
   ],
   "source": [
    "#22   >>>>>  Write a Python function using NumPy to generate an array of 10 equally spaced values between 0 and 1 (inclusive).\n",
    "def Esf():\n",
    "    number=np.linspace(0,1,10)\n",
    "    return number\n",
    "Esf()"
   ]
  },
  {
   "cell_type": "code",
   "execution_count": 46,
   "id": "038201b2-79d9-4ed9-9f9b-035f0d06d779",
   "metadata": {},
   "outputs": [
    {
     "name": "stderr",
     "output_type": "stream",
     "text": [
      "/opt/conda/lib/python3.10/site-packages/numpy/core/function_base.py:277: RuntimeWarning: overflow encountered in power\n",
      "  return _nx.power(base, y)\n"
     ]
    },
    {
     "data": {
      "text/plain": [
       "array([1.00000000e+001, 5.62341325e+250,             inf,             inf,\n",
       "                   inf])"
      ]
     },
     "execution_count": 46,
     "metadata": {},
     "output_type": "execute_result"
    }
   ],
   "source": [
    "#23 >>>>   Write a Python function using NumPy to create an array of 5 logarithmically spaced values between 1 and 1000 (inclusive).\n",
    "def Log():\n",
    "    numbers=np.logspace(1,1000,5)\n",
    "    return numbers\n",
    "Log()"
   ]
  },
  {
   "cell_type": "code",
   "execution_count": 47,
   "id": "c4647ea6-7bc2-4985-89d8-e9e2e659d793",
   "metadata": {},
   "outputs": [
    {
     "data": {
      "text/plain": [
       "array([[52, 63, 66],\n",
       "       [33, 57, 20],\n",
       "       [61, 98, 48],\n",
       "       [ 4,  4,  9],\n",
       "       [93, 98, 84]])"
      ]
     },
     "execution_count": 47,
     "metadata": {},
     "output_type": "execute_result"
    }
   ],
   "source": [
    "#24 >>>>>  Create a Pandas DataFrame using a NumPy array that contains 5 rows and 3 columns, where the values are random integers between 1 and 100.\n",
    "np.random.randint(1,100,size=(5,3))"
   ]
  },
  {
   "cell_type": "code",
   "execution_count": 48,
   "id": "ab4d8e3c-23e5-4793-ad12-1c57147725c6",
   "metadata": {},
   "outputs": [
    {
     "data": {
      "text/html": [
       "<div>\n",
       "<style scoped>\n",
       "    .dataframe tbody tr th:only-of-type {\n",
       "        vertical-align: middle;\n",
       "    }\n",
       "\n",
       "    .dataframe tbody tr th {\n",
       "        vertical-align: top;\n",
       "    }\n",
       "\n",
       "    .dataframe thead th {\n",
       "        text-align: right;\n",
       "    }\n",
       "</style>\n",
       "<table border=\"1\" class=\"dataframe\">\n",
       "  <thead>\n",
       "    <tr style=\"text-align: right;\">\n",
       "      <th></th>\n",
       "      <th>A</th>\n",
       "      <th>B</th>\n",
       "    </tr>\n",
       "  </thead>\n",
       "  <tbody>\n",
       "    <tr>\n",
       "      <th>0</th>\n",
       "      <td>1</td>\n",
       "      <td>10</td>\n",
       "    </tr>\n",
       "    <tr>\n",
       "      <th>1</th>\n",
       "      <td>-2</td>\n",
       "      <td>0</td>\n",
       "    </tr>\n",
       "    <tr>\n",
       "      <th>2</th>\n",
       "      <td>3</td>\n",
       "      <td>30</td>\n",
       "    </tr>\n",
       "    <tr>\n",
       "      <th>3</th>\n",
       "      <td>-4</td>\n",
       "      <td>0</td>\n",
       "    </tr>\n",
       "    <tr>\n",
       "      <th>4</th>\n",
       "      <td>5</td>\n",
       "      <td>50</td>\n",
       "    </tr>\n",
       "  </tbody>\n",
       "</table>\n",
       "</div>"
      ],
      "text/plain": [
       "   A   B\n",
       "0  1  10\n",
       "1 -2   0\n",
       "2  3  30\n",
       "3 -4   0\n",
       "4  5  50"
      ]
     },
     "execution_count": 48,
     "metadata": {},
     "output_type": "execute_result"
    }
   ],
   "source": [
    "#25 >>>>> Write a function that takes a Pandas DataFrame and replaces all negative values in a specific column with zeros. Use NumPy operations within the Pandas DataFrame.\n",
    "import pandas as pd\n",
    "def Replace_negatives_with_zeros(df, column_name):\n",
    "    \n",
    "    df[column_name] = np.where(df[column_name] < 0, 0, df[column_name])\n",
    "    return df\n",
    "data = {'A': [1, -2, 3, -4, 5], 'B': [10, -20, 30, -40, 50]}\n",
    "df = pd.DataFrame(data)\n",
    "Replace_negatives_with_zeros(df, \"A\"and\"B\")"
   ]
  },
  {
   "cell_type": "code",
   "execution_count": 49,
   "id": "1118ed1d-af43-45dc-87e2-31e084af7f7e",
   "metadata": {},
   "outputs": [
    {
     "data": {
      "text/plain": [
       "30"
      ]
     },
     "execution_count": 49,
     "metadata": {},
     "output_type": "execute_result"
    }
   ],
   "source": [
    "#26 >>>>>>Access the 3rd element from the given NumPy array.\n",
    "arr = np.array([10, 20, 30, 40, 50])\n",
    "arr[2]"
   ]
  },
  {
   "cell_type": "code",
   "execution_count": 50,
   "id": "242f8a19-6d91-40e5-ad2d-a4eb29ddff40",
   "metadata": {},
   "outputs": [
    {
     "data": {
      "text/plain": [
       "array([[1, 2, 3],\n",
       "       [4, 5, 6],\n",
       "       [7, 8, 9]])"
      ]
     },
     "execution_count": 50,
     "metadata": {},
     "output_type": "execute_result"
    }
   ],
   "source": [
    "#27 >>>>>  Retrieve the element at index (1, 2) from the 2D NumPy array.\n",
    "arr_2d = np.array([[1, 2, 3],\n",
    "                   [4, 5, 6],\n",
    "                   [7, 8, 9]])\n",
    "arr_2d"
   ]
  },
  {
   "cell_type": "code",
   "execution_count": 51,
   "id": "fc3c604f-dd5e-4035-b0c0-a14eb28c72b8",
   "metadata": {},
   "outputs": [
    {
     "data": {
      "text/plain": [
       "6"
      ]
     },
     "execution_count": 51,
     "metadata": {},
     "output_type": "execute_result"
    }
   ],
   "source": [
    "arr_2d[1,2]"
   ]
  },
  {
   "cell_type": "code",
   "execution_count": 52,
   "id": "3ff0bc61-f13d-4f26-b2ec-8c86e04d54dc",
   "metadata": {},
   "outputs": [
    {
     "data": {
      "text/plain": [
       "array([ 3,  8,  2, 10,  5,  7])"
      ]
     },
     "execution_count": 52,
     "metadata": {},
     "output_type": "execute_result"
    }
   ],
   "source": [
    "#28 >>>>>. Using boolean indexing, extract elements greater than 5 from the given NumPy array.\n",
    "arr = np.array([3, 8, 2, 10, 5, 7])\n",
    "arr"
   ]
  },
  {
   "cell_type": "code",
   "execution_count": 53,
   "id": "349343bd-1757-44a8-8416-52c95a577939",
   "metadata": {},
   "outputs": [
    {
     "data": {
      "text/plain": [
       "array([ 8, 10,  7])"
      ]
     },
     "execution_count": 53,
     "metadata": {},
     "output_type": "execute_result"
    }
   ],
   "source": [
    "arr[arr>5]"
   ]
  },
  {
   "cell_type": "code",
   "execution_count": 54,
   "id": "22698244-bf78-45c6-9a56-fcc657922b3d",
   "metadata": {},
   "outputs": [],
   "source": [
    "#29 >>>>   Perform basic slicing to extract elements from index 2 to 5 (inclusive) from the given NumPy array.\n",
    "arr = np.array([1, 2, 3, 4, 5, 6, 7, 8, 9])"
   ]
  },
  {
   "cell_type": "code",
   "execution_count": 55,
   "id": "6af1ea3f-f9cf-4307-8abe-5d5776fb2e6a",
   "metadata": {},
   "outputs": [
    {
     "data": {
      "text/plain": [
       "array([1, 2, 3, 4, 5, 6, 7, 8, 9])"
      ]
     },
     "execution_count": 55,
     "metadata": {},
     "output_type": "execute_result"
    }
   ],
   "source": [
    "arr"
   ]
  },
  {
   "cell_type": "code",
   "execution_count": 56,
   "id": "524c4162-da63-4db1-ab4d-2c0236e21efb",
   "metadata": {},
   "outputs": [
    {
     "data": {
      "text/plain": [
       "array([3, 4, 5])"
      ]
     },
     "execution_count": 56,
     "metadata": {},
     "output_type": "execute_result"
    }
   ],
   "source": [
    "arr[2:5]"
   ]
  },
  {
   "cell_type": "code",
   "execution_count": 57,
   "id": "c172f2f4-9032-4241-a8fb-d4ca64e0236f",
   "metadata": {},
   "outputs": [
    {
     "data": {
      "text/plain": [
       "array([[1, 2, 3],\n",
       "       [4, 5, 6],\n",
       "       [7, 8, 9]])"
      ]
     },
     "execution_count": 57,
     "metadata": {},
     "output_type": "execute_result"
    }
   ],
   "source": [
    "#30 >>>>>>  Slice the 2D NumPy array to extract the sub-array `[[2, 3], [5, 6]]` from the given array.\n",
    "arr_2d = np.array([[1, 2, 3],\n",
    "                   [4, 5, 6],\n",
    "                   [7, 8, 9]])\n",
    "arr_2d"
   ]
  },
  {
   "cell_type": "code",
   "execution_count": 58,
   "id": "9d3ad453-ee13-4097-8c40-d5a5e1fbece6",
   "metadata": {},
   "outputs": [
    {
     "data": {
      "text/plain": [
       "array([[2, 3],\n",
       "       [5, 6]])"
      ]
     },
     "execution_count": 58,
     "metadata": {},
     "output_type": "execute_result"
    }
   ],
   "source": [
    "arr_2d[0:2,1:3]"
   ]
  },
  {
   "cell_type": "code",
   "execution_count": 59,
   "id": "d8545177-94ba-4fb6-9d56-7b3ba06aa438",
   "metadata": {},
   "outputs": [],
   "source": [
    "#31 >>>  Write a NumPy function to extract elements in specific order from a given 2D array based on indices provided in another array."
   ]
  },
  {
   "cell_type": "code",
   "execution_count": 60,
   "id": "2f685360-0483-4079-84fb-7f79ad251b5b",
   "metadata": {},
   "outputs": [
    {
     "name": "stdout",
     "output_type": "stream",
     "text": [
      "Extracted elements: [3 4 8]\n"
     ]
    }
   ],
   "source": [
    "def extract_elements_by_indices(arr_2d, indices):\n",
    "    \"\"\"\n",
    "    Extracts elements from a 2D array based on given indices.\n",
    "\n",
    "    Parameters:\n",
    "    arr_2d (numpy.ndarray): The input 2D array.\n",
    "    indices (list or numpy.ndarray): An array of tuples where each tuple contains the row and column index.\n",
    "\n",
    "    Returns:\n",
    "    numpy.ndarray: A 1D array of extracted elements.\n",
    "    \"\"\"\n",
    "    # Extract rows and columns separately from the indices\n",
    "    rows, cols = zip(*indices)\n",
    "    # Use advanced indexing to extract the elements\n",
    "    return arr_2d[rows, cols]\n",
    "\n",
    "# Example usage\n",
    "arr_2d = np.array([[1, 2, 3],\n",
    "                   [4, 5, 6],\n",
    "                   [7, 8, 9]])\n",
    "\n",
    "indices = [(0, 2), (1, 0), (2, 1)]\n",
    "\n",
    "extracted_elements = extract_elements_by_indices(arr_2d, indices)\n",
    "print(f\"Extracted elements: {extracted_elements}\")"
   ]
  },
  {
   "cell_type": "code",
   "execution_count": 61,
   "id": "842ee353-0175-4d70-b529-1f558314917d",
   "metadata": {},
   "outputs": [],
   "source": [
    "#32 >>>>>  Create a NumPy function that filters elements greater than a threshold from a given 1D array using boolean indexing."
   ]
  },
  {
   "cell_type": "code",
   "execution_count": 62,
   "id": "962035e6-541f-4617-916d-f954f803a4f2",
   "metadata": {},
   "outputs": [
    {
     "data": {
      "text/plain": [
       "array([3, 7])"
      ]
     },
     "execution_count": 62,
     "metadata": {},
     "output_type": "execute_result"
    }
   ],
   "source": [
    "arr=np.random.randint(1,8,5)\n",
    "def filter(arr):\n",
    "    arr1=arr[arr>2]\n",
    "    return arr1\n",
    "filter(arr)"
   ]
  },
  {
   "cell_type": "code",
   "execution_count": 63,
   "id": "ede578d8-98ad-4c3c-963f-fadddc7ee997",
   "metadata": {},
   "outputs": [
    {
     "data": {
      "text/plain": [
       "array([ 6, 12, 18])"
      ]
     },
     "execution_count": 63,
     "metadata": {},
     "output_type": "execute_result"
    }
   ],
   "source": [
    "#33 >>>>> Develop a NumPy function that extracts specific elements from a 3D array using indices provided in three separate arrays for each dimension. \n",
    "arr1 = np.array([\n",
    "    [\n",
    "        [1, 2, 3, 4],\n",
    "        [5, 6, 7, 8],\n",
    "        [9, 10, 11, 12]\n",
    "    ],\n",
    "    [\n",
    "        [13, 14, 15, 16],\n",
    "        [17, 18, 19, 20],\n",
    "        [21, 22, 23, 24]\n",
    "    ]\n",
    "])\n",
    "def extract_element(arr1,x,y,z):\n",
    "    if not (len(x) == len(y) == len(z)):\n",
    "        raise ValueError(\"All index arrays must have the same length\")\n",
    "    return arr1[x,y,z]\n",
    "extract_element(arr1,[0,0,1],[1,2,1],[1,3,1])"
   ]
  },
  {
   "cell_type": "code",
   "execution_count": 64,
   "id": "feb294c7-2a35-4533-a202-19debd3b8ff0",
   "metadata": {},
   "outputs": [
    {
     "name": "stdout",
     "output_type": "stream",
     "text": [
      "Extracted elements: [ 8 10]\n"
     ]
    }
   ],
   "source": [
    "#34 >>>>>Write a NumPy function that returns elements from an array where both two conditions are satisfied using boolean indexing.\n",
    "def extract_elements_with_conditions(arr, condition1, condition2):\n",
    "    \"\"\"\n",
    "    Extracts elements from an array where both conditions are satisfied.\n",
    "\n",
    "    Parameters:\n",
    "    arr (numpy.ndarray): The input array.\n",
    "    condition1 (callable): A function that takes an element and returns a boolean for the first condition.\n",
    "    condition2 (callable): A function that takes an element and returns a boolean for the second condition.\n",
    "\n",
    "    Returns:\n",
    "    numpy.ndarray: An array of elements that satisfy both conditions.\n",
    "    \"\"\"\n",
    "    # Apply the conditions to the array\n",
    "    boolean_mask = np.vectorize(condition1)(arr) & np.vectorize(condition2)(arr)\n",
    "    \n",
    "    # Use the boolean mask to extract elements\n",
    "    return arr[boolean_mask]\n",
    "\n",
    "# Example usage\n",
    "arr = np.array([3, 8, 2, 10, 5, 7])\n",
    "\n",
    "# Define conditions\n",
    "condition1 = lambda x: x > 5  # Elements greater than 5\n",
    "condition2 = lambda x: x % 2 == 0  # Elements that are even\n",
    "\n",
    "extracted_elements = extract_elements_with_conditions(arr, condition1, condition2)\n",
    "print(\"Extracted elements:\", extracted_elements)"
   ]
  },
  {
   "cell_type": "code",
   "execution_count": 65,
   "id": "12488d36-08b0-4d40-94c2-82a51fc15399",
   "metadata": {},
   "outputs": [
    {
     "name": "stdout",
     "output_type": "stream",
     "text": [
      "Extracted elements: [3 4 8]\n"
     ]
    }
   ],
   "source": [
    "#35 >>>>> . Create a NumPy function that extracts elements from a 2D array using row and column indices provided in separate arrays.\n",
    "import numpy as np\n",
    "\n",
    "def extract_elements_2d(arr_2d, row_indices, col_indices):\n",
    "    \"\"\"\n",
    "    Extracts elements from a 2D array based on given row and column indices.\n",
    "\n",
    "    Parameters:\n",
    "    arr_2d (numpy.ndarray): The input 2D array.\n",
    "    row_indices (list or numpy.ndarray): Indices for the rows.\n",
    "    col_indices (list or numpy.ndarray): Indices for the columns.\n",
    "\n",
    "    Returns:\n",
    "    numpy.ndarray: An array of extracted elements.\n",
    "    \"\"\"\n",
    "    if len(row_indices) != len(col_indices):\n",
    "        raise ValueError(\"Row indices and column indices must have the same length\")\n",
    "\n",
    "    # Use advanced indexing to extract the elements\n",
    "    return arr_2d[row_indices, col_indices]\n",
    "\n",
    "# Example usage\n",
    "arr_2d = np.array([\n",
    "    [1, 2, 3],\n",
    "    [4, 5, 6],\n",
    "    [7, 8, 9]\n",
    "])\n",
    "\n",
    "row_indices = [0, 1, 2]\n",
    "col_indices = [2, 0, 1]\n",
    "extracted_elements = extract_elements_2d(arr_2d, row_indices, col_indices)\n",
    "print(\"Extracted elements:\", extracted_elements)"
   ]
  },
  {
   "cell_type": "code",
   "execution_count": 66,
   "id": "8d23eb27-3866-4aaf-80a8-1448862ede3e",
   "metadata": {},
   "outputs": [
    {
     "data": {
      "text/plain": [
       "array([[0., 0., 0.],\n",
       "       [0., 0., 0.],\n",
       "       [0., 0., 0.]])"
      ]
     },
     "execution_count": 66,
     "metadata": {},
     "output_type": "execute_result"
    }
   ],
   "source": [
    "#36 >>>>>  Given an array arr of shape (3, 3), add a scalar value of 5 to each element using NumPy broadcasting.\n",
    "arr=np.zeros((3,3))\n",
    "arr"
   ]
  },
  {
   "cell_type": "code",
   "execution_count": 67,
   "id": "827ca70a-5e7e-4517-8e08-24bc11546385",
   "metadata": {},
   "outputs": [
    {
     "data": {
      "text/plain": [
       "array([[5., 5., 5.],\n",
       "       [5., 5., 5.],\n",
       "       [5., 5., 5.]])"
      ]
     },
     "execution_count": 67,
     "metadata": {},
     "output_type": "execute_result"
    }
   ],
   "source": [
    "arr_new=arr+5\n",
    "arr_new"
   ]
  },
  {
   "cell_type": "code",
   "execution_count": 68,
   "id": "4ab93ab2-d8db-410d-8435-3b8f6cd6976f",
   "metadata": {},
   "outputs": [
    {
     "data": {
      "text/plain": [
       "(3,)"
      ]
     },
     "execution_count": 68,
     "metadata": {},
     "output_type": "execute_result"
    }
   ],
   "source": [
    "#37 >>>>>>Consider two arrays arr1 of shape (1, 3) and arr2 of shape (3, 4). Multiply each row of arr2 by the corresponding element in arr1 using NumPy broadcasting.\n",
    "arr1=np.array([2,3,4])\n",
    "arr1.shape"
   ]
  },
  {
   "cell_type": "code",
   "execution_count": 71,
   "id": "0c9a2d2a-d3d8-4a8b-a04f-cb3d0e3827ec",
   "metadata": {},
   "outputs": [
    {
     "data": {
      "text/plain": [
       "array([ 2, 15, 28])"
      ]
     },
     "execution_count": 71,
     "metadata": {},
     "output_type": "execute_result"
    }
   ],
   "source": [
    "arr3=arr1*arr2\n",
    "arr3"
   ]
  },
  {
   "cell_type": "code",
   "execution_count": 72,
   "id": "828d98fc-91c1-4afa-a447-34d9884c07fb",
   "metadata": {},
   "outputs": [
    {
     "data": {
      "text/plain": [
       "(3, 4)"
      ]
     },
     "execution_count": 72,
     "metadata": {},
     "output_type": "execute_result"
    }
   ],
   "source": [
    "#38 >>>>> Given a 1D array arr1 of shape (1, 4) and a 2D array arr2 of shape (4, 3), add arr1 to each row of arr2 using NumPy broadcasting.\n",
    "a=np.array([1,2,3,4])\n",
    "arr5=np.array([[1,2,3,4],[2,3,4,5],[3,4,5,6]])\n",
    "arr5.shape"
   ]
  },
  {
   "cell_type": "code",
   "execution_count": 73,
   "id": "9fc4137e-9e1a-445b-87c8-bb650f6e3f37",
   "metadata": {},
   "outputs": [
    {
     "data": {
      "text/plain": [
       "array([[ 2,  4,  6,  8],\n",
       "       [ 3,  5,  7,  9],\n",
       "       [ 4,  6,  8, 10]])"
      ]
     },
     "execution_count": 73,
     "metadata": {},
     "output_type": "execute_result"
    }
   ],
   "source": [
    "arr5+a"
   ]
  },
  {
   "cell_type": "code",
   "execution_count": 74,
   "id": "8bc80667-ab3a-41f8-901d-2dcf1bb7e6b0",
   "metadata": {},
   "outputs": [
    {
     "data": {
      "text/plain": [
       "(3,)"
      ]
     },
     "execution_count": 74,
     "metadata": {},
     "output_type": "execute_result"
    }
   ],
   "source": [
    "#39 >>>>>> Consider two arrays arr1 of shape (3, 1) and arr2 of shape (1, 3). Add these arrays using NumPy broadcasting.\n",
    "ar1=np.array([[1,2,3],[2,3,4],[3,4,5]])\n",
    "arr1.shape"
   ]
  },
  {
   "cell_type": "code",
   "execution_count": 75,
   "id": "7ff834fb-a61b-4d04-a051-8b2a1aff39ea",
   "metadata": {},
   "outputs": [
    {
     "data": {
      "text/plain": [
       "(3, 1)"
      ]
     },
     "execution_count": 75,
     "metadata": {},
     "output_type": "execute_result"
    }
   ],
   "source": [
    "ar2=np.array([[1],[2],[3]])\n",
    "ar2.shape"
   ]
  },
  {
   "cell_type": "code",
   "execution_count": 76,
   "id": "45dfbc27-31e3-4a2b-801f-2e0aa41cc886",
   "metadata": {},
   "outputs": [
    {
     "data": {
      "text/plain": [
       "array([[2, 3, 4],\n",
       "       [4, 5, 6],\n",
       "       [6, 7, 8]])"
      ]
     },
     "execution_count": 76,
     "metadata": {},
     "output_type": "execute_result"
    }
   ],
   "source": [
    "ar1+ar2"
   ]
  },
  {
   "cell_type": "code",
   "execution_count": 77,
   "id": "5b7714bf-2850-4f8c-873f-a2f675e273db",
   "metadata": {},
   "outputs": [
    {
     "data": {
      "text/plain": [
       "(2, 3)"
      ]
     },
     "execution_count": 77,
     "metadata": {},
     "output_type": "execute_result"
    }
   ],
   "source": [
    "#40 >>>>>>. Given arrays arr1 of shape (2, 3) and arr2 of shape (2, 2), perform multiplication using NumPy broadcasting. Handle the shape incompatibility.\n",
    "ar3=np.array([[1,2,3],[2,3,4]])\n",
    "ar3.shape"
   ]
  },
  {
   "cell_type": "code",
   "execution_count": 78,
   "id": "193a48fc-1142-4ce8-b6a8-606da4765495",
   "metadata": {},
   "outputs": [
    {
     "data": {
      "text/plain": [
       "(2, 2)"
      ]
     },
     "execution_count": 78,
     "metadata": {},
     "output_type": "execute_result"
    }
   ],
   "source": [
    "ar5=ar3.T # we manupulated the muntiplication by taking transpose and make muntiplication happen.\n",
    "# For muntiplication of array coloumn of first row and row of second row must be equal,thats why take transpose.\n",
    "ar4=np.array([[2,3],[2,6]])\n",
    "ar4.shape"
   ]
  },
  {
   "cell_type": "code",
   "execution_count": 79,
   "id": "e1744798-5f16-4a89-bdd3-5c46d53b5b56",
   "metadata": {},
   "outputs": [
    {
     "data": {
      "text/plain": [
       "array([[14, 20],\n",
       "       [20, 29]])"
      ]
     },
     "execution_count": 79,
     "metadata": {},
     "output_type": "execute_result"
    }
   ],
   "source": [
    "ar3@ar5"
   ]
  },
  {
   "cell_type": "code",
   "execution_count": 80,
   "id": "e87f2c77-73b2-4b6e-880f-1a25cb1b40ba",
   "metadata": {},
   "outputs": [
    {
     "data": {
      "text/plain": [
       "array([2., 5.])"
      ]
     },
     "execution_count": 80,
     "metadata": {},
     "output_type": "execute_result"
    }
   ],
   "source": [
    "#41  >>>>>> Calculate column wise mean for the given array:\n",
    "arr = np.array([[1, 2, 3], [4, 5, 6]])\n",
    "np.mean(arr,axis=1)"
   ]
  },
  {
   "cell_type": "code",
   "execution_count": 81,
   "id": "3568e244-d1fd-4fb7-b102-03c4068c9eff",
   "metadata": {},
   "outputs": [
    {
     "data": {
      "text/plain": [
       "array([4, 5, 6])"
      ]
     },
     "execution_count": 81,
     "metadata": {},
     "output_type": "execute_result"
    }
   ],
   "source": [
    "#42 >>>>>> Find maximum value in each row of the given array:\n",
    "np.max(arr,axis=0)"
   ]
  },
  {
   "cell_type": "code",
   "execution_count": 82,
   "id": "a711dd80-fa30-4dc3-959f-efdf7468bd06",
   "metadata": {},
   "outputs": [
    {
     "data": {
      "text/plain": [
       "array([2, 2])"
      ]
     },
     "execution_count": 82,
     "metadata": {},
     "output_type": "execute_result"
    }
   ],
   "source": [
    "#43 >>>>>>  For the given array, find indices of maximum value in each column.\n",
    "np.argmax(arr,axis=1)"
   ]
  },
  {
   "cell_type": "code",
   "execution_count": 83,
   "id": "fe67897d-c73d-4c71-819f-cde1584982cf",
   "metadata": {},
   "outputs": [
    {
     "name": "stdout",
     "output_type": "stream",
     "text": [
      "Moving sums along rows with window size 3 :\n",
      "[[ 1.  3.  6.  9. 12.]\n",
      " [ 6. 13. 21. 24. 27.]\n",
      " [11. 23. 36. 39. 42.]]\n"
     ]
    }
   ],
   "source": [
    "#44 >>>>>> For the given array, apply custom function to calculate moving sum along rows.\n",
    "import numpy as np\n",
    "\n",
    "def moving_sum(arr, window_size):\n",
    "    \"\"\"\n",
    "    Calculate the moving sum along the rows of a 2D array.\n",
    "\n",
    "    Parameters:\n",
    "    arr (numpy.ndarray): The input 2D array.\n",
    "    window_size (int): The size of the moving window.\n",
    "\n",
    "    Returns:\n",
    "    numpy.ndarray: A 2D array with the moving sums calculated along the rows.\n",
    "    \"\"\"\n",
    "    if window_size < 1:\n",
    "        raise ValueError(\"Window size must be at least 1\")\n",
    "\n",
    "    # Initialize an array to store the moving sums\n",
    "    moving_sums = np.zeros_like(arr, dtype=float)\n",
    "    \n",
    "    # Calculate the moving sums along each row\n",
    "    for row_index in range(arr.shape[0]):\n",
    "        row = arr[row_index]\n",
    "        for i in range(len(row)):\n",
    "            if i < window_size - 1:\n",
    "                # For the initial elements where the window is not fully covered\n",
    "                moving_sums[row_index, i] = np.sum(row[:i+1])\n",
    "            else:\n",
    "                # For elements where the window is fully covered\n",
    "                moving_sums[row_index, i] = np.sum(row[i-window_size+1:i+1])\n",
    "    \n",
    "    return moving_sums\n",
    "\n",
    "# Example usage\n",
    "arr = np.array([\n",
    "    [1, 2, 3, 4, 5],\n",
    "    [6, 7, 8, 9, 10],\n",
    "    [11, 12, 13, 14, 15]\n",
    "])\n",
    "\n",
    "window_size = 3\n",
    "result = moving_sum(arr, window_size)\n",
    "print(\"Moving sums along rows with window size\", window_size, \":\")\n",
    "print(result)"
   ]
  },
  {
   "cell_type": "code",
   "execution_count": 84,
   "id": "c470590b-33ff-44ed-8a79-432850d23d59",
   "metadata": {},
   "outputs": [
    {
     "name": "stdout",
     "output_type": "stream",
     "text": [
      "Check if all elements in each column are even: [False False False]\n"
     ]
    }
   ],
   "source": [
    "#45 >>>>>>> In the given array, check if all elements in each column are even.\n",
    "arr = np.array([[2, 4, 6], [3, 5, 7]])\n",
    "even_check=(arr%2==0)\n",
    "even_column=np.all(even_check,axis=0)\n",
    "print(\"Check if all elements in each column are even:\", even_column)\n"
   ]
  },
  {
   "cell_type": "code",
   "execution_count": 85,
   "id": "21273d93-c8d8-48ee-accd-bee43ff59037",
   "metadata": {},
   "outputs": [
    {
     "data": {
      "text/plain": [
       "array([[1, 2],\n",
       "       [3, 4],\n",
       "       [5, 6]])"
      ]
     },
     "execution_count": 85,
     "metadata": {},
     "output_type": "execute_result"
    }
   ],
   "source": [
    "#46 >>>>>Given a NumPy array arr, reshape it into a matrix of dimensions `m` rows and `n` columns. Return the reshaped matrix.   \n",
    "original_array = np.array([1, 2, 3, 4, 5, 6])\n",
    "original_array.reshape(3,2)  # the product of row and column should always be same"
   ]
  },
  {
   "cell_type": "code",
   "execution_count": 86,
   "id": "9b0162d1-9c24-4f8c-80cd-9f085ce6da71",
   "metadata": {},
   "outputs": [
    {
     "data": {
      "text/plain": [
       "array([1, 2, 3, 4, 5, 6])"
      ]
     },
     "execution_count": 86,
     "metadata": {},
     "output_type": "execute_result"
    }
   ],
   "source": [
    "#47 >>>>>  Create a function that takes a matrix as input and returns the flattened array.\n",
    "def flatten_array(input_matrix):\n",
    "    arr_new=input_matrix.flatten()\n",
    "    return arr_new\n",
    "input_matrix = np.array([[1, 2, 3], [4, 5, 6]])\n",
    "flatten_array(input_matrix)"
   ]
  },
  {
   "cell_type": "code",
   "execution_count": 87,
   "id": "4bc93470-fc15-420e-af2c-611fe7826349",
   "metadata": {},
   "outputs": [
    {
     "data": {
      "text/plain": [
       "array([[1, 2],\n",
       "       [3, 4],\n",
       "       [5, 6],\n",
       "       [7, 8]])"
      ]
     },
     "execution_count": 87,
     "metadata": {},
     "output_type": "execute_result"
    }
   ],
   "source": [
    "#48 >>>>  Write a function that concatenates two given arrays along a specified axis.\n",
    "array1 = np.array([[1, 2], [3, 4]])\n",
    "array2 = np.array([[5, 6], [7, 8]])\n",
    "np.concatenate((array1,array2),axis=0) # row wise concatenation"
   ]
  },
  {
   "cell_type": "code",
   "execution_count": 88,
   "id": "d442f6c7-4b01-4afc-a1fc-63baa14d87e0",
   "metadata": {},
   "outputs": [
    {
     "data": {
      "text/plain": [
       "array([[1, 2, 5, 6],\n",
       "       [3, 4, 7, 8]])"
      ]
     },
     "execution_count": 88,
     "metadata": {},
     "output_type": "execute_result"
    }
   ],
   "source": [
    "np.concatenate((array1,array2),axis=1)"
   ]
  },
  {
   "cell_type": "code",
   "execution_count": 89,
   "id": "55fdaa53-b721-4faa-92fa-df33af757d74",
   "metadata": {},
   "outputs": [
    {
     "data": {
      "text/plain": [
       "[array([[1, 2, 3]]), array([[4, 5, 6]]), array([[7, 8, 9]])]"
      ]
     },
     "execution_count": 89,
     "metadata": {},
     "output_type": "execute_result"
    }
   ],
   "source": [
    "#49 >>>> Create a function that splits an array into multiple sub-arrays along a specified axis.\n",
    "original_array = np.array([[1, 2, 3], [4, 5, 6], [7, 8, 9]])\n",
    "np.split(original_array,3)"
   ]
  },
  {
   "cell_type": "code",
   "execution_count": 90,
   "id": "63443706-6550-4ed6-8021-1569ba31c8e5",
   "metadata": {},
   "outputs": [
    {
     "data": {
      "text/plain": [
       "array([ 1,  2, 10,  3,  4, 11,  5])"
      ]
     },
     "execution_count": 90,
     "metadata": {},
     "output_type": "execute_result"
    }
   ],
   "source": [
    "#50 >>>>  . Write a function that inserts and then deletes elements from a given array at specified indices.\n",
    "original_array = np.array([1, 2, 3, 4, 5])\n",
    "arr100=np.insert(original_array,[2,4],[10,11],axis=0)\n",
    "arr100"
   ]
  },
  {
   "cell_type": "code",
   "execution_count": 91,
   "id": "bafcbe6a-c865-4721-9e57-618f19feefdd",
   "metadata": {},
   "outputs": [
    {
     "data": {
      "text/plain": [
       "array([1, 3, 5])"
      ]
     },
     "execution_count": 91,
     "metadata": {},
     "output_type": "execute_result"
    }
   ],
   "source": [
    "arr101=np.delete(original_array,[1,3],axis=0)\n",
    "arr101"
   ]
  },
  {
   "cell_type": "code",
   "execution_count": 93,
   "id": "db9dd412-19b3-45a9-8d40-22e121ca377c",
   "metadata": {},
   "outputs": [],
   "source": [
    "#51 >>>>> Create a NumPy array `arr1` with random integers and another array `arr2` with integers from 1 to 10. Perform element-wise addition between `arr1` and `arr2`.\n"
   ]
  },
  {
   "cell_type": "code",
   "execution_count": 94,
   "id": "c719167b-485a-463d-b5a7-f0bc39a896a8",
   "metadata": {},
   "outputs": [
    {
     "data": {
      "text/plain": [
       "array([2, 4, 6, 3, 5])"
      ]
     },
     "execution_count": 94,
     "metadata": {},
     "output_type": "execute_result"
    }
   ],
   "source": [
    "import random\n",
    "arr1=np.random.randint(1,10,5)\n",
    "arr1"
   ]
  },
  {
   "cell_type": "code",
   "execution_count": 95,
   "id": "185088f9-7c13-4e96-8feb-eb0cb10670da",
   "metadata": {},
   "outputs": [
    {
     "data": {
      "text/plain": [
       "array([7, 5, 2, 4, 1])"
      ]
     },
     "execution_count": 95,
     "metadata": {},
     "output_type": "execute_result"
    }
   ],
   "source": [
    "arr2=np.random.randint(1,10,5)\n",
    "arr2"
   ]
  },
  {
   "cell_type": "code",
   "execution_count": 96,
   "id": "e34e3002-d31d-482f-bb8c-aa1b1b44aa22",
   "metadata": {},
   "outputs": [
    {
     "data": {
      "text/plain": [
       "array([9, 9, 8, 7, 6])"
      ]
     },
     "execution_count": 96,
     "metadata": {},
     "output_type": "execute_result"
    }
   ],
   "source": [
    "arr1+arr2"
   ]
  },
  {
   "cell_type": "code",
   "execution_count": 97,
   "id": "f776bea3-761e-45de-9dc6-3baebce2d0f1",
   "metadata": {},
   "outputs": [
    {
     "data": {
      "text/plain": [
       "array([1, 2, 3, 4, 5, 6, 7, 8, 9])"
      ]
     },
     "execution_count": 97,
     "metadata": {},
     "output_type": "execute_result"
    }
   ],
   "source": [
    "#52 >>>>>>Generate a NumPy array `arr1` with sequential integers from 10 to 1 and another array `arr2` with integers from 1 to 10. Subtract `arr2` from `arr1` element-wise.\n",
    "arr1=np.arange(1,10)\n",
    "arr1"
   ]
  },
  {
   "cell_type": "code",
   "execution_count": 98,
   "id": "2f4237e9-5011-47fa-836c-de7e56f64895",
   "metadata": {},
   "outputs": [
    {
     "data": {
      "text/plain": [
       "array([9, 8, 7, 6, 5, 4, 3, 2, 1])"
      ]
     },
     "execution_count": 98,
     "metadata": {},
     "output_type": "execute_result"
    }
   ],
   "source": [
    "a=arr1[::-1]\n",
    "a"
   ]
  },
  {
   "cell_type": "code",
   "execution_count": 99,
   "id": "696e5af3-7d97-4564-bb9a-39156f9c2194",
   "metadata": {},
   "outputs": [],
   "source": [
    "arr2=np.arange(1,10)"
   ]
  },
  {
   "cell_type": "code",
   "execution_count": 100,
   "id": "98903461-37e9-4396-b4d7-eb4256da5af2",
   "metadata": {},
   "outputs": [
    {
     "data": {
      "text/plain": [
       "array([1, 2, 3, 4, 5, 6, 7, 8, 9])"
      ]
     },
     "execution_count": 100,
     "metadata": {},
     "output_type": "execute_result"
    }
   ],
   "source": [
    "b=arr2\n",
    "b"
   ]
  },
  {
   "cell_type": "code",
   "execution_count": 101,
   "id": "13250ce9-2307-457b-9d5e-9ed74b7e40d1",
   "metadata": {},
   "outputs": [
    {
     "data": {
      "text/plain": [
       "array([0, 0, 0, 0, 0, 0, 0, 0, 0])"
      ]
     },
     "execution_count": 101,
     "metadata": {},
     "output_type": "execute_result"
    }
   ],
   "source": [
    "arr2-arr1"
   ]
  },
  {
   "cell_type": "code",
   "execution_count": 102,
   "id": "d9c9ba87-0355-487b-9630-3462dd5b2a97",
   "metadata": {},
   "outputs": [
    {
     "data": {
      "text/plain": [
       "array([8, 9, 5, 2, 9])"
      ]
     },
     "execution_count": 102,
     "metadata": {},
     "output_type": "execute_result"
    }
   ],
   "source": [
    "#53 >>>>Create a NumPy array `arr1` with random integers and another array `arr2` with integers from 1 to 5. Perform element-wise multiplication between `arr1` and `arr2`.\n",
    "arr1=np.random.randint(1,10,5)\n",
    "arr1"
   ]
  },
  {
   "cell_type": "code",
   "execution_count": 103,
   "id": "b429c44c-d53b-46c1-8ab3-9bb6b3a9d69c",
   "metadata": {},
   "outputs": [
    {
     "data": {
      "text/plain": [
       "array([4, 4, 3, 3, 3])"
      ]
     },
     "execution_count": 103,
     "metadata": {},
     "output_type": "execute_result"
    }
   ],
   "source": [
    "arr2=np.random.randint(2,5,5)\n",
    "arr2"
   ]
  },
  {
   "cell_type": "code",
   "execution_count": 104,
   "id": "9721d59a-79eb-4797-89b6-3a08302fd7d2",
   "metadata": {},
   "outputs": [
    {
     "data": {
      "text/plain": [
       "array([32, 36, 15,  6, 27])"
      ]
     },
     "execution_count": 104,
     "metadata": {},
     "output_type": "execute_result"
    }
   ],
   "source": [
    "arr_new=arr1*arr2\n",
    "arr_new"
   ]
  },
  {
   "cell_type": "code",
   "execution_count": 113,
   "id": "eff2c444-17ff-4107-b6b4-af818b8b6050",
   "metadata": {},
   "outputs": [],
   "source": [
    "#54 >>>>. Generate a NumPy array `arr1` with even integers from 2 to 10 and another array `arr2` with integers from 1 to 5. Perform element-wise division of `arr1` by `arr2`."
   ]
  },
  {
   "cell_type": "code",
   "execution_count": 115,
   "id": "61cb5354-66fd-4a3a-9917-9599087ffa6f",
   "metadata": {},
   "outputs": [
    {
     "data": {
      "text/plain": [
       "array([4, 6, 6, 5, 3])"
      ]
     },
     "execution_count": 115,
     "metadata": {},
     "output_type": "execute_result"
    }
   ],
   "source": [
    "arr1=np.random.randint(2,10,5)\n",
    "arr1"
   ]
  },
  {
   "cell_type": "code",
   "execution_count": 116,
   "id": "ff1ca356-08d6-4042-930b-13fd3370dcc1",
   "metadata": {},
   "outputs": [],
   "source": [
    "arr2=np.random.randint(1,5,5)"
   ]
  },
  {
   "cell_type": "code",
   "execution_count": 117,
   "id": "6d3cdd62-ca72-42f9-9d04-e1c9e2e0541f",
   "metadata": {},
   "outputs": [
    {
     "data": {
      "text/plain": [
       "array([3, 4, 4, 1, 4])"
      ]
     },
     "execution_count": 117,
     "metadata": {},
     "output_type": "execute_result"
    }
   ],
   "source": [
    "arr2\n",
    "\n"
   ]
  },
  {
   "cell_type": "code",
   "execution_count": 118,
   "id": "3d6412be-43c2-46bd-85b1-35742c743891",
   "metadata": {},
   "outputs": [
    {
     "data": {
      "text/plain": [
       "array([1.33333333, 1.5       , 1.5       , 5.        , 0.75      ])"
      ]
     },
     "execution_count": 118,
     "metadata": {},
     "output_type": "execute_result"
    }
   ],
   "source": [
    "arr1/arr2"
   ]
  },
  {
   "cell_type": "code",
   "execution_count": 119,
   "id": "dc541c4c-ec7e-4f25-a01a-038c961a1f29",
   "metadata": {},
   "outputs": [
    {
     "data": {
      "text/plain": [
       "array([4, 4, 2, 2, 1])"
      ]
     },
     "execution_count": 119,
     "metadata": {},
     "output_type": "execute_result"
    }
   ],
   "source": [
    "#55 >>>>> Create a NumPy array `arr1` with integers from 1 to 5 and another array `arr2` with the same numbers reversed. Calculate the exponentiation of `arr1` raised to the power of `arr2` element-wise.\n",
    "arr1=np.random.randint(1,5,5)\n",
    "arr1"
   ]
  },
  {
   "cell_type": "code",
   "execution_count": 120,
   "id": "828b0879-4c39-465d-b41e-a9b9d4516bce",
   "metadata": {},
   "outputs": [
    {
     "data": {
      "text/plain": [
       "array([1, 2, 2, 4, 4])"
      ]
     },
     "execution_count": 120,
     "metadata": {},
     "output_type": "execute_result"
    }
   ],
   "source": [
    "arr2=arr1[::-1]\n",
    "arr2"
   ]
  },
  {
   "cell_type": "code",
   "execution_count": 121,
   "id": "25a25774-699b-4477-9e78-48d0a142a569",
   "metadata": {},
   "outputs": [
    {
     "data": {
      "text/plain": [
       "array([ 4, 16,  4, 16,  1])"
      ]
     },
     "execution_count": 121,
     "metadata": {},
     "output_type": "execute_result"
    }
   ],
   "source": [
    "arr1**arr2"
   ]
  },
  {
   "cell_type": "code",
   "execution_count": 122,
   "id": "20b33cd8-a496-45ad-b3f1-9e1422228869",
   "metadata": {},
   "outputs": [
    {
     "name": "stdout",
     "output_type": "stream",
     "text": [
      "3\n"
     ]
    }
   ],
   "source": [
    "#56 >>>>Write a function that counts the occurrences of a specific substring within a NumPy array of strings\n",
    "arr = np.array(['hello', 'world', 'hello', 'numpy', 'hello'])\n",
    "def count(arr,element_to_count):\n",
    "    c=0\n",
    "    for i in arr:\n",
    "        if i==element_to_count:\n",
    "            c=c+1\n",
    "    print(c)\n",
    "count(arr,\"hello\")"
   ]
  },
  {
   "cell_type": "code",
   "execution_count": 123,
   "id": "fb2c70f9-d271-4beb-a9ac-89b2f61fb55e",
   "metadata": {},
   "outputs": [
    {
     "data": {
      "text/plain": [
       "array(['Hello', 'World', 'OpenAI', 'GPT'], dtype='<U6')"
      ]
     },
     "execution_count": 123,
     "metadata": {},
     "output_type": "execute_result"
    }
   ],
   "source": [
    "#57 >>>>>Write a function that extracts uppercase characters from a NumPy array of strings.\n",
    "\n",
    "arr = np.array(['Hello', 'World', 'OpenAI', 'GPT'])\n",
    "arr"
   ]
  },
  {
   "cell_type": "code",
   "execution_count": 124,
   "id": "c2965cd2-acab-4f0a-a08c-5ab758f097bf",
   "metadata": {},
   "outputs": [
    {
     "name": "stdout",
     "output_type": "stream",
     "text": [
      "GPT\n"
     ]
    }
   ],
   "source": [
    "def extract(arr):\n",
    "    for i in arr:\n",
    "        if i==i.upper():\n",
    "            print(i)\n",
    "    \n",
    "            \n",
    "extract(arr)"
   ]
  },
  {
   "cell_type": "code",
   "execution_count": 125,
   "id": "c97fce8c-ea59-4b16-905a-0bbf2b248b77",
   "metadata": {},
   "outputs": [
    {
     "data": {
      "text/plain": [
       "array(['apple', 'banana', 'mango', 'pineapple'], dtype='<U9')"
      ]
     },
     "execution_count": 125,
     "metadata": {},
     "output_type": "execute_result"
    }
   ],
   "source": [
    "#58 >>>> Write a function that replaces occurrences of a substring in a NumPy array of strings with a new string\n",
    "arr = np.array(['apple', 'banana', 'grape', 'pineapple'])\n",
    "arr[2]=\"mango\" # reolaced grape with mango\n",
    "arr"
   ]
  },
  {
   "cell_type": "code",
   "execution_count": 126,
   "id": "fd68aaf4-9c42-4688-9276-ddc16244c964",
   "metadata": {},
   "outputs": [
    {
     "data": {
      "text/plain": [
       "array(['HelloOpen', 'WorldAI'], dtype='<U9')"
      ]
     },
     "execution_count": 126,
     "metadata": {},
     "output_type": "execute_result"
    }
   ],
   "source": [
    "#59 >>>>>Write a function that concatenates strings in a NumPy array element-wise.\n",
    "arr1 = np.array(['Hello', 'World'])\n",
    "arr2 = np.array(['Open', 'AI'])\n",
    "def conc(arr1,arr2):\n",
    "    final_arr=np.char.add(arr1,arr2)\n",
    "    return final_arr\n",
    "conc(arr1,arr2)"
   ]
  },
  {
   "cell_type": "code",
   "execution_count": 127,
   "id": "29c79435-1865-4282-8047-d52f3661d65b",
   "metadata": {},
   "outputs": [
    {
     "data": {
      "text/plain": [
       "9"
      ]
     },
     "execution_count": 127,
     "metadata": {},
     "output_type": "execute_result"
    }
   ],
   "source": [
    "#60 >>>> Write a function that finds the length of the longest string in a NumPy array.\n",
    "\n",
    "arr = np.array(['apple', 'banana', 'grape', 'pineapple'])\n",
    "def find(arr):\n",
    "    for i in arr:\n",
    "        length=max(len(i) for i in arr)\n",
    "    return length\n",
    "        \n",
    "    \n",
    "find(arr)"
   ]
  },
  {
   "cell_type": "code",
   "execution_count": 128,
   "id": "b4963aef-0914-4ac0-8b58-b7d38bbfe107",
   "metadata": {},
   "outputs": [
    {
     "data": {
      "text/html": [
       "<div>\n",
       "<style scoped>\n",
       "    .dataframe tbody tr th:only-of-type {\n",
       "        vertical-align: middle;\n",
       "    }\n",
       "\n",
       "    .dataframe tbody tr th {\n",
       "        vertical-align: top;\n",
       "    }\n",
       "\n",
       "    .dataframe thead th {\n",
       "        text-align: right;\n",
       "    }\n",
       "</style>\n",
       "<table border=\"1\" class=\"dataframe\">\n",
       "  <thead>\n",
       "    <tr style=\"text-align: right;\">\n",
       "      <th></th>\n",
       "      <th>0</th>\n",
       "    </tr>\n",
       "  </thead>\n",
       "  <tbody>\n",
       "    <tr>\n",
       "      <th>0</th>\n",
       "      <td>175</td>\n",
       "    </tr>\n",
       "    <tr>\n",
       "      <th>1</th>\n",
       "      <td>626</td>\n",
       "    </tr>\n",
       "    <tr>\n",
       "      <th>2</th>\n",
       "      <td>235</td>\n",
       "    </tr>\n",
       "    <tr>\n",
       "      <th>3</th>\n",
       "      <td>56</td>\n",
       "    </tr>\n",
       "    <tr>\n",
       "      <th>4</th>\n",
       "      <td>753</td>\n",
       "    </tr>\n",
       "    <tr>\n",
       "      <th>...</th>\n",
       "      <td>...</td>\n",
       "    </tr>\n",
       "    <tr>\n",
       "      <th>95</th>\n",
       "      <td>127</td>\n",
       "    </tr>\n",
       "    <tr>\n",
       "      <th>96</th>\n",
       "      <td>231</td>\n",
       "    </tr>\n",
       "    <tr>\n",
       "      <th>97</th>\n",
       "      <td>394</td>\n",
       "    </tr>\n",
       "    <tr>\n",
       "      <th>98</th>\n",
       "      <td>920</td>\n",
       "    </tr>\n",
       "    <tr>\n",
       "      <th>99</th>\n",
       "      <td>698</td>\n",
       "    </tr>\n",
       "  </tbody>\n",
       "</table>\n",
       "<p>100 rows × 1 columns</p>\n",
       "</div>"
      ],
      "text/plain": [
       "      0\n",
       "0   175\n",
       "1   626\n",
       "2   235\n",
       "3    56\n",
       "4   753\n",
       "..  ...\n",
       "95  127\n",
       "96  231\n",
       "97  394\n",
       "98  920\n",
       "99  698\n",
       "\n",
       "[100 rows x 1 columns]"
      ]
     },
     "execution_count": 128,
     "metadata": {},
     "output_type": "execute_result"
    }
   ],
   "source": [
    "#61. >>>>>> Create a dataset of 100 random integers between 1 and 1000. Compute the mean, median, variance, andstandard deviation of the dataset using NumPy's functions.\n",
    "ds=np.random.randint(1,1000,100)\n",
    "import pandas as pd\n",
    "pd.DataFrame(ds)"
   ]
  },
  {
   "cell_type": "code",
   "execution_count": 129,
   "id": "3d5e25e5-3a9d-41f6-8adc-37a9c9d57aba",
   "metadata": {},
   "outputs": [
    {
     "data": {
      "text/plain": [
       "476.88"
      ]
     },
     "execution_count": 129,
     "metadata": {},
     "output_type": "execute_result"
    }
   ],
   "source": [
    "ds.mean()   # to find the mean"
   ]
  },
  {
   "cell_type": "code",
   "execution_count": 130,
   "id": "6aee47a3-7d19-4923-8151-d1267af1e440",
   "metadata": {},
   "outputs": [
    {
     "data": {
      "text/plain": [
       "89143.56560000003"
      ]
     },
     "execution_count": 130,
     "metadata": {},
     "output_type": "execute_result"
    }
   ],
   "source": [
    "ds.var() # to find the variance"
   ]
  },
  {
   "cell_type": "code",
   "execution_count": 131,
   "id": "36fe73d4-7173-4488-815c-d19039391a7a",
   "metadata": {},
   "outputs": [
    {
     "data": {
      "text/plain": [
       "298.5691973395783"
      ]
     },
     "execution_count": 131,
     "metadata": {},
     "output_type": "execute_result"
    }
   ],
   "source": [
    "ds.std()  # to find the standard deviation"
   ]
  },
  {
   "cell_type": "code",
   "execution_count": 132,
   "id": "71ce36ab-4895-4c90-958d-ee9417fa3a14",
   "metadata": {},
   "outputs": [
    {
     "data": {
      "text/plain": [
       "431.0"
      ]
     },
     "execution_count": 132,
     "metadata": {},
     "output_type": "execute_result"
    }
   ],
   "source": [
    "import statistics as st\n",
    "st.median(ds) # to find the median of the dataset"
   ]
  },
  {
   "cell_type": "code",
   "execution_count": 133,
   "id": "8c598867-c33a-4217-a688-ad26a47dda9e",
   "metadata": {},
   "outputs": [
    {
     "data": {
      "text/html": [
       "<div>\n",
       "<style scoped>\n",
       "    .dataframe tbody tr th:only-of-type {\n",
       "        vertical-align: middle;\n",
       "    }\n",
       "\n",
       "    .dataframe tbody tr th {\n",
       "        vertical-align: top;\n",
       "    }\n",
       "\n",
       "    .dataframe thead th {\n",
       "        text-align: right;\n",
       "    }\n",
       "</style>\n",
       "<table border=\"1\" class=\"dataframe\">\n",
       "  <thead>\n",
       "    <tr style=\"text-align: right;\">\n",
       "      <th></th>\n",
       "      <th>0</th>\n",
       "    </tr>\n",
       "  </thead>\n",
       "  <tbody>\n",
       "    <tr>\n",
       "      <th>count</th>\n",
       "      <td>50.000000</td>\n",
       "    </tr>\n",
       "    <tr>\n",
       "      <th>mean</th>\n",
       "      <td>52.800000</td>\n",
       "    </tr>\n",
       "    <tr>\n",
       "      <th>std</th>\n",
       "      <td>31.464265</td>\n",
       "    </tr>\n",
       "    <tr>\n",
       "      <th>min</th>\n",
       "      <td>1.000000</td>\n",
       "    </tr>\n",
       "    <tr>\n",
       "      <th>25%</th>\n",
       "      <td>26.000000</td>\n",
       "    </tr>\n",
       "    <tr>\n",
       "      <th>50%</th>\n",
       "      <td>55.500000</td>\n",
       "    </tr>\n",
       "    <tr>\n",
       "      <th>75%</th>\n",
       "      <td>82.250000</td>\n",
       "    </tr>\n",
       "    <tr>\n",
       "      <th>max</th>\n",
       "      <td>98.000000</td>\n",
       "    </tr>\n",
       "  </tbody>\n",
       "</table>\n",
       "</div>"
      ],
      "text/plain": [
       "               0\n",
       "count  50.000000\n",
       "mean   52.800000\n",
       "std    31.464265\n",
       "min     1.000000\n",
       "25%    26.000000\n",
       "50%    55.500000\n",
       "75%    82.250000\n",
       "max    98.000000"
      ]
     },
     "execution_count": 133,
     "metadata": {},
     "output_type": "execute_result"
    }
   ],
   "source": [
    "#62 >>> Generate an array of 50 random numbers between 1 and 100. Find the 25th and 75th percentiles of the dataset.\n",
    "ds=np.random.randint(1,100,50)\n",
    "df=pd.DataFrame(ds)\n",
    "df.describe()"
   ]
  },
  {
   "cell_type": "code",
   "execution_count": 134,
   "id": "3463e009-3515-453d-9921-8445d9cb36b8",
   "metadata": {},
   "outputs": [
    {
     "data": {
      "text/plain": [
       "array([[1., 1.],\n",
       "       [1., 1.]])"
      ]
     },
     "execution_count": 134,
     "metadata": {},
     "output_type": "execute_result"
    }
   ],
   "source": [
    "#here the 25 percentile is 30.5 and 75 percentile is 88.0\n",
    "#63 >>>>> Create two arrays representing two sets of variables. Compute the correlation coefficient between these arrays using NumPy's `corrcoef` function\n",
    "arr1=np.array([1,2,3,4])\n",
    "arr2=np.array([2,4,6,8])\n",
    "np.corrcoef(arr1,arr2)"
   ]
  },
  {
   "cell_type": "code",
   "execution_count": 135,
   "id": "2392a72d-2c74-4626-93a7-b4eb87cef121",
   "metadata": {},
   "outputs": [
    {
     "data": {
      "text/plain": [
       "matrix([[1, 2, 3],\n",
       "        [2, 3, 4],\n",
       "        [2, 3, 5]])"
      ]
     },
     "execution_count": 135,
     "metadata": {},
     "output_type": "execute_result"
    }
   ],
   "source": [
    "#64 >>>>>Create two matrices and perform matrix multiplication using NumPy's `dot` function.\n",
    "matrix1=np.matrix([[1,2,3],[2,3,4],[2,3,5]])\n",
    "matrix1"
   ]
  },
  {
   "cell_type": "code",
   "execution_count": 136,
   "id": "377ebd25-8dbc-46b6-8f57-da6b08ac86c6",
   "metadata": {},
   "outputs": [
    {
     "data": {
      "text/plain": [
       "matrix([[1, 2, 3],\n",
       "        [2, 3, 4],\n",
       "        [2, 3, 5]])"
      ]
     },
     "execution_count": 136,
     "metadata": {},
     "output_type": "execute_result"
    }
   ],
   "source": [
    "#64 >>>>>Create two matrices and perform matrix multiplication using NumPy's `dot` function.\n",
    "matrix1=np.matrix([[1,2,3],[2,3,4],[2,3,5]])\n",
    "matrix1"
   ]
  },
  {
   "cell_type": "code",
   "execution_count": 137,
   "id": "14606f54-34ab-4dee-9c75-1f1493ab1412",
   "metadata": {},
   "outputs": [
    {
     "data": {
      "text/plain": [
       "matrix([[2, 3, 4],\n",
       "        [2, 5, 6],\n",
       "        [5, 7, 9]])"
      ]
     },
     "execution_count": 137,
     "metadata": {},
     "output_type": "execute_result"
    }
   ],
   "source": [
    "matrix2=np.matrix([[2,3,4],[2,5,6],[5,7,9]])\n",
    "matrix2"
   ]
  },
  {
   "cell_type": "code",
   "execution_count": 138,
   "id": "4109ba4c-b4d9-4e98-8241-81aab884fc0d",
   "metadata": {},
   "outputs": [
    {
     "data": {
      "text/plain": [
       "matrix([[21, 34, 43],\n",
       "        [30, 49, 62],\n",
       "        [35, 56, 71]])"
      ]
     },
     "execution_count": 138,
     "metadata": {},
     "output_type": "execute_result"
    }
   ],
   "source": [
    "matrix1.dot(matrix2)"
   ]
  },
  {
   "cell_type": "code",
   "execution_count": 139,
   "id": "df25a78b-e10c-414a-8afc-895c34887ca0",
   "metadata": {},
   "outputs": [
    {
     "data": {
      "text/plain": [
       "array([964, 346, 743, 840, 426, 820, 852, 369, 671, 963,  35,  66, 370,\n",
       "       310, 628, 380, 302, 218, 461, 643, 233, 195, 705, 945, 673,  96,\n",
       "       964, 298, 898, 480, 931, 242, 548, 817, 532, 562, 661, 171, 468,\n",
       "       602, 546, 271, 399, 317,  37, 857, 658, 566, 710, 980])"
      ]
     },
     "execution_count": 139,
     "metadata": {},
     "output_type": "execute_result"
    }
   ],
   "source": [
    "#65>>>>>Create an array of 50 integers between 10 and 1000. Calculate the 10th, 50th (median), and 90th percentiles along with the first and third quartiles.\n",
    "arr1=np.random.randint(10,1000,50)\n",
    "arr1"
   ]
  },
  {
   "cell_type": "code",
   "execution_count": 140,
   "id": "84857c26-ab80-4b8d-afea-067fb0bf8b7a",
   "metadata": {},
   "outputs": [
    {
     "data": {
      "text/plain": [
       "192.60000000000002"
      ]
     },
     "execution_count": 140,
     "metadata": {},
     "output_type": "execute_result"
    }
   ],
   "source": [
    "np.percentile(arr1,10)"
   ]
  },
  {
   "cell_type": "code",
   "execution_count": 141,
   "id": "e1ec21b5-71f6-463b-871b-a7c139fd885c",
   "metadata": {},
   "outputs": [
    {
     "data": {
      "text/plain": [
       "547.0"
      ]
     },
     "execution_count": 141,
     "metadata": {},
     "output_type": "execute_result"
    }
   ],
   "source": [
    "np.percentile(arr1,50)"
   ]
  },
  {
   "cell_type": "code",
   "execution_count": 142,
   "id": "d01326d0-11cd-40e4-8554-be93f3346166",
   "metadata": {},
   "outputs": [
    {
     "data": {
      "text/plain": [
       "932.4"
      ]
     },
     "execution_count": 142,
     "metadata": {},
     "output_type": "execute_result"
    }
   ],
   "source": [
    "np.percentile(arr1,90)"
   ]
  },
  {
   "cell_type": "code",
   "execution_count": 143,
   "id": "bd6ad617-313f-44bd-bc2f-c9c244dab6e8",
   "metadata": {},
   "outputs": [
    {
     "data": {
      "text/plain": [
       "311.75"
      ]
     },
     "execution_count": 143,
     "metadata": {},
     "output_type": "execute_result"
    }
   ],
   "source": [
    "np.percentile(arr1,25)"
   ]
  },
  {
   "cell_type": "code",
   "execution_count": 144,
   "id": "b8e9bd95-696d-4e37-8f53-46c02b86a8d6",
   "metadata": {},
   "outputs": [
    {
     "data": {
      "text/plain": [
       "734.75"
      ]
     },
     "execution_count": 144,
     "metadata": {},
     "output_type": "execute_result"
    }
   ],
   "source": [
    "np.percentile(arr1,75)"
   ]
  },
  {
   "cell_type": "code",
   "execution_count": 145,
   "id": "37671a68-a8e5-4a04-b4d0-74f16e5e2b90",
   "metadata": {},
   "outputs": [
    {
     "data": {
      "text/plain": [
       "3"
      ]
     },
     "execution_count": 145,
     "metadata": {},
     "output_type": "execute_result"
    }
   ],
   "source": [
    "#66 >>>>>  Create a NumPy array of integers and find the index of a specific element.\n",
    "arr=np.array([1,2,3,4,5])\n",
    "arr[2]"
   ]
  },
  {
   "cell_type": "code",
   "execution_count": 146,
   "id": "3b850773-9265-4904-af05-c1e5b45041bd",
   "metadata": {},
   "outputs": [
    {
     "data": {
      "text/plain": [
       "array([   1,    3,    3,    4,    5,    5,   33,   35,   44,   45,   66,\n",
       "        333,  444, 1543])"
      ]
     },
     "execution_count": 146,
     "metadata": {},
     "output_type": "execute_result"
    }
   ],
   "source": [
    "#67 >>>>Generate a random NumPy array and sort it in ascending order\n",
    "arr=np.array([1,3,4,5,66,45,3,44,5,33,444,35,1543,333])\n",
    "np.sort(arr)"
   ]
  },
  {
   "cell_type": "code",
   "execution_count": 147,
   "id": "33a5fa8f-db07-4106-a1b0-7d74eddb4faa",
   "metadata": {},
   "outputs": [
    {
     "data": {
      "text/plain": [
       "array([25, 42, 30])"
      ]
     },
     "execution_count": 147,
     "metadata": {},
     "output_type": "execute_result"
    }
   ],
   "source": [
    "#68 >>>>>>Filter elements >20  in the given NumPy array.\n",
    "arr = np.array([12, 25, 6, 42, 8, 30])\n",
    "arr[arr>20]"
   ]
  },
  {
   "cell_type": "code",
   "execution_count": 148,
   "id": "d61b096a-4f74-438b-bcce-846b5bf16feb",
   "metadata": {},
   "outputs": [
    {
     "data": {
      "text/plain": [
       "array([12, 15])"
      ]
     },
     "execution_count": 148,
     "metadata": {},
     "output_type": "execute_result"
    }
   ],
   "source": [
    "#69 >>>>>>> Filter elements which are divisible by 3 from a given NumPy array.\n",
    "arr = np.array([1, 5, 8, 12, 15])\n",
    "arr[arr%3==0]"
   ]
  },
  {
   "cell_type": "code",
   "execution_count": 149,
   "id": "2fecc8fe-b8ca-4a07-a544-6f4157b8e807",
   "metadata": {},
   "outputs": [
    {
     "data": {
      "text/plain": [
       "array([20, 30, 40])"
      ]
     },
     "execution_count": 149,
     "metadata": {},
     "output_type": "execute_result"
    }
   ],
   "source": [
    "#70 >>>Filter elements which are ≥ 20 and ≤ 40 from a given NumPy array\n",
    "arr = np.array([10, 20, 30, 40, 50])\n",
    "arr[(arr>=20) & (arr<=40)]\n"
   ]
  },
  {
   "cell_type": "code",
   "execution_count": 150,
   "id": "36673fa2-1cd8-43c0-a23e-d39003656e7b",
   "metadata": {},
   "outputs": [
    {
     "data": {
      "text/plain": [
       "'='"
      ]
     },
     "execution_count": 150,
     "metadata": {},
     "output_type": "execute_result"
    }
   ],
   "source": [
    "#71 >>>>>For the given NumPy array, check its byte order using the `dtype` attribute byteorder.\n",
    "arr = np.array([1, 2, 3])\n",
    "arr.dtype.byteorder"
   ]
  },
  {
   "cell_type": "code",
   "execution_count": 151,
   "id": "8e4c2cf5-5e64-48b7-895f-e7df3ab289b6",
   "metadata": {},
   "outputs": [
    {
     "data": {
      "text/plain": [
       "array([16777216, 33554432, 50331648], dtype=int32)"
      ]
     },
     "execution_count": 151,
     "metadata": {},
     "output_type": "execute_result"
    }
   ],
   "source": [
    "#72 >>>> For the given NumPy array, perform byte swapping in place using `byteswap()`.\n",
    "arr = np.array([1, 2, 3], dtype=np.int32)\n",
    "arr.byteswap()"
   ]
  },
  {
   "cell_type": "code",
   "execution_count": 152,
   "id": "27ca03f8-1671-4a7a-90df-1e9647aa3bb5",
   "metadata": {},
   "outputs": [
    {
     "data": {
      "text/plain": [
       "array([16777216, 33554432, 50331648], dtype=int32)"
      ]
     },
     "execution_count": 152,
     "metadata": {},
     "output_type": "execute_result"
    }
   ],
   "source": [
    "#73 >>>> For the given NumPy array, swap its byte order without modifying the original array using `newbyteorder()`.\n",
    "arr = np.array([1, 2, 3], dtype=np.int32)\n",
    "arr.newbyteorder()"
   ]
  },
  {
   "cell_type": "code",
   "execution_count": 153,
   "id": "da663e6f-1f48-4da2-ac4e-b8279ac04a63",
   "metadata": {},
   "outputs": [
    {
     "data": {
      "text/plain": [
       "array([16777216, 33554432, 50331648], dtype=int32)"
      ]
     },
     "execution_count": 153,
     "metadata": {},
     "output_type": "execute_result"
    }
   ],
   "source": [
    "#74 >>>> For the given NumPy array and swap its byte order conditionally based on system endianness using `newbyteorder()`.\n",
    "arr = np.array([1, 2, 3], dtype=np.int32)\n",
    "arr.byteswap()"
   ]
  },
  {
   "cell_type": "code",
   "execution_count": 154,
   "id": "1f32a606-b68c-4eda-a956-9708655dc85d",
   "metadata": {},
   "outputs": [
    {
     "data": {
      "text/plain": [
       "array([16777216, 33554432, 50331648], dtype=int32)"
      ]
     },
     "execution_count": 154,
     "metadata": {},
     "output_type": "execute_result"
    }
   ],
   "source": [
    "arr.newbyteorder()\n"
   ]
  },
  {
   "cell_type": "code",
   "execution_count": 155,
   "id": "c856aaf2-9cc7-4c32-a8c9-09cf2ff73645",
   "metadata": {},
   "outputs": [
    {
     "name": "stdout",
     "output_type": "stream",
     "text": [
      "No byte swapping is necessary.\n",
      "Array byte order: =\n",
      "System native byte order: <\n"
     ]
    }
   ],
   "source": [
    "#75 >>>> For the given NumPy array, check if byte swapping is necessary for the current system using `dtype` attribute `byteorder`.\n",
    "import numpy as np\n",
    "\n",
    "# Define the array\n",
    "arr = np.array([1, 2, 3], dtype=np.int32)\n",
    "\n",
    "# Get the byte order of the array's dtype\n",
    "byteorder = arr.dtype.byteorder\n",
    "\n",
    "# Determine the native byte order of the system\n",
    "import sys\n",
    "native_byteorder = '<' if sys.byteorder == 'little' else '>'\n",
    "\n",
    "# Check if byte swapping is necessary\n",
    "if byteorder == '=':  # '=' means native byte order\n",
    "    print(\"No byte swapping is necessary.\")\n",
    "elif byteorder != native_byteorder:\n",
    "    print(\"Byte swapping is necessary.\")\n",
    "else:\n",
    "    print(\"No byte swapping is necessary.\")\n",
    "\n",
    "# Print the byte order of the array and the system's native byte order\n",
    "print(f\"Array byte order: {byteorder}\")\n",
    "print(f\"System native byte order: {native_byteorder}\")"
   ]
  },
  {
   "cell_type": "code",
   "execution_count": 156,
   "id": "b34230d3-4e2f-4be5-8039-08acbaaf4e14",
   "metadata": {},
   "outputs": [
    {
     "data": {
      "text/plain": [
       "array([1, 2, 4, 5, 7, 8])"
      ]
     },
     "execution_count": 156,
     "metadata": {},
     "output_type": "execute_result"
    }
   ],
   "source": [
    "\"\"\"76 >>> Create a NumPy array `arr1` with values from 1 to 10. Create a copy of `arr1` named `copy_arr` and modify\n",
    "an element in `copy_arr`. Check if modifying `copy_arr` affects `arr1`.\"\"\"\n",
    "'76 >>> Create a NumPy array `arr1` with values from 1 to 10. Create a copy of `arr1` named `copy_arr` and modify\\nan element in `copy_arr`. Check if modifying `copy_arr` affects `arr1`.'\n",
    "arr1=np.array([1,2,4,5,7,8])\n",
    "copy_arr=arr1.copy()\n",
    "copy_arr"
   ]
  },
  {
   "cell_type": "code",
   "execution_count": 157,
   "id": "d176d824-b949-45d6-9392-0274f55d0af6",
   "metadata": {},
   "outputs": [
    {
     "data": {
      "text/plain": [
       "array([11,  2,  4,  5,  7,  8])"
      ]
     },
     "execution_count": 157,
     "metadata": {},
     "output_type": "execute_result"
    }
   ],
   "source": [
    "copy_arr[0]=11\n",
    "copy_arr\n"
   ]
  },
  {
   "cell_type": "code",
   "execution_count": 159,
   "id": "18ca397f-28ae-482b-9edf-dd5200e9e714",
   "metadata": {},
   "outputs": [
    {
     "name": "stdout",
     "output_type": "stream",
     "text": [
      "Modifying copy_arr does not affect arr1.\n"
     ]
    }
   ],
   "source": [
    "if np.array_equal(arr1, copy_arr):\n",
    "    print(\"Modifying copy_arr affects arr1.\")\n",
    "else:\n",
    "    print(\"Modifying copy_arr does not affect arr1.\")"
   ]
  },
  {
   "cell_type": "code",
   "execution_count": 160,
   "id": "68a07efd-22cd-4608-95fb-b9ec6714930c",
   "metadata": {},
   "outputs": [
    {
     "data": {
      "text/plain": [
       "matrix([[0.49928773, 0.35936302, 0.8999618 ],\n",
       "        [0.91277666, 0.77618712, 0.64931128],\n",
       "        [0.96478978, 0.24339072, 0.49153086]])"
      ]
     },
     "execution_count": 160,
     "metadata": {},
     "output_type": "execute_result"
    }
   ],
   "source": [
    "#77. Create a 2D NumPy array `matrix` of shape (3, 3) with random integers. Extract a slice `view_slice` from the matrix. Modify an element in `view_slice` and observe if it changes the original `matrix`\n",
    "arr=np.random.rand(3,3)\n",
    "new_mat=np.matrix(arr)\n",
    "new_mat"
   ]
  },
  {
   "cell_type": "code",
   "execution_count": 161,
   "id": "38cfa00a-476a-4a29-9ff9-adf86c67dafc",
   "metadata": {},
   "outputs": [
    {
     "data": {
      "text/plain": [
       "matrix([[0.49928773, 0.35936302],\n",
       "        [0.91277666, 0.77618712]])"
      ]
     },
     "execution_count": 161,
     "metadata": {},
     "output_type": "execute_result"
    }
   ],
   "source": [
    "view_slice=new_mat[:2,:2]\n",
    "view_slice"
   ]
  },
  {
   "cell_type": "code",
   "execution_count": 162,
   "id": "06e7ac6c-66ee-4272-9847-1de85234525d",
   "metadata": {},
   "outputs": [
    {
     "data": {
      "text/plain": [
       "matrix([[100.        ,   0.35936302],\n",
       "        [  0.91277666,   0.77618712]])"
      ]
     },
     "execution_count": 162,
     "metadata": {},
     "output_type": "execute_result"
    }
   ],
   "source": [
    "view_slice[0,0]=100\n",
    "view_slice"
   ]
  },
  {
   "cell_type": "code",
   "execution_count": 163,
   "id": "e2291ccd-f16a-41d2-a6b4-60f162036ce1",
   "metadata": {},
   "outputs": [
    {
     "data": {
      "text/plain": [
       "matrix([[100.        ,   0.35936302,   0.8999618 ],\n",
       "        [  0.91277666,   0.77618712,   0.64931128],\n",
       "        [  0.96478978,   0.24339072,   0.49153086]])"
      ]
     },
     "execution_count": 163,
     "metadata": {},
     "output_type": "execute_result"
    }
   ],
   "source": [
    "new_mat"
   ]
  },
  {
   "cell_type": "code",
   "execution_count": 164,
   "id": "2dfd8a04-6e7e-41c5-99ad-56a3c843927a",
   "metadata": {},
   "outputs": [
    {
     "data": {
      "text/plain": [
       "array([[ 1,  2,  3],\n",
       "       [ 4,  5,  6],\n",
       "       [ 7,  8,  9],\n",
       "       [10, 11, 12]])"
      ]
     },
     "execution_count": 164,
     "metadata": {},
     "output_type": "execute_result"
    }
   ],
   "source": [
    "# yes it alter the new_mat\n",
    "#78 >>>>create a NumPy array `array_a` of shape (4, 3) with sequential integers from 1 to 12. Extract a slice `view_b` from `array_a` and broadcast the addition of 5 to view_b. Check if it alters the original `array_a`.\n",
    "array_a=np.array([[1,2,3],[4,5,6],[7,8,9],[10,11,12]])\n",
    "array_a"
   ]
  },
  {
   "cell_type": "code",
   "execution_count": 165,
   "id": "c12943fc-b6e0-4ab5-aa4d-124bbf567def",
   "metadata": {},
   "outputs": [
    {
     "data": {
      "text/plain": [
       "array([[1, 2],\n",
       "       [4, 5]])"
      ]
     },
     "execution_count": 165,
     "metadata": {},
     "output_type": "execute_result"
    }
   ],
   "source": [
    "view_b=array_a[:2,:2]\n",
    "view_b"
   ]
  },
  {
   "cell_type": "code",
   "execution_count": 166,
   "id": "2f9940d2-75c6-4a92-b5d9-4880424931e7",
   "metadata": {},
   "outputs": [
    {
     "data": {
      "text/plain": [
       "array([[ 6,  7],\n",
       "       [ 9, 10]])"
      ]
     },
     "execution_count": 166,
     "metadata": {},
     "output_type": "execute_result"
    }
   ],
   "source": [
    "view_b+5  # broadcast the addition of 5"
   ]
  },
  {
   "cell_type": "code",
   "execution_count": 167,
   "id": "d2d9d63d-951f-4184-ba65-331eb6b19556",
   "metadata": {},
   "outputs": [
    {
     "data": {
      "text/plain": [
       "array([[1, 2],\n",
       "       [3, 4],\n",
       "       [5, 6],\n",
       "       [7, 8]])"
      ]
     },
     "execution_count": 167,
     "metadata": {},
     "output_type": "execute_result"
    }
   ],
   "source": [
    "#There is no alter to the array_a\n",
    "#79 >>>>>Create a NumPy array `orig_array` of shape (2, 4) with values from 1 to 8. Create a reshaped vie`reshaped_view` of shape (4, 2) from orig_array. Modify an element in `reshaped_view` and check if it reflects changes in the original `orig_array`.\n",
    "orig_array=np.array([[1,2,3,4],[5,6,7,8]])\n",
    "reshaped_view=orig_array.reshape(4,2)\n",
    "reshaped_view"
   ]
  },
  {
   "cell_type": "code",
   "execution_count": 168,
   "id": "4f870931-1314-46cd-bce7-ccde922f8256",
   "metadata": {},
   "outputs": [
    {
     "data": {
      "text/plain": [
       "(4, 2)"
      ]
     },
     "execution_count": 168,
     "metadata": {},
     "output_type": "execute_result"
    }
   ],
   "source": [
    "reshaped_view.shape"
   ]
  },
  {
   "cell_type": "code",
   "execution_count": 169,
   "id": "9faacb1c-633c-4b11-920f-874cf4bab50f",
   "metadata": {},
   "outputs": [
    {
     "data": {
      "text/plain": [
       "array([[  1, 121],\n",
       "       [  3,   4],\n",
       "       [  5,   6],\n",
       "       [  7,   8]])"
      ]
     },
     "execution_count": 169,
     "metadata": {},
     "output_type": "execute_result"
    }
   ],
   "source": [
    "reshaped_view[0,1]=121\n",
    "reshaped_view"
   ]
  },
  {
   "cell_type": "code",
   "execution_count": 170,
   "id": "58a8ac42-844c-4394-b70e-8cf9ca75921d",
   "metadata": {},
   "outputs": [
    {
     "data": {
      "text/plain": [
       "array([[  1, 121,   3,   4],\n",
       "       [  5,   6,   7,   8]])"
      ]
     },
     "execution_count": 170,
     "metadata": {},
     "output_type": "execute_result"
    }
   ],
   "source": [
    "orig_array"
   ]
  },
  {
   "cell_type": "code",
   "execution_count": 171,
   "id": "b0f67439-f588-48eb-bdde-b9e18b0de22a",
   "metadata": {},
   "outputs": [],
   "source": [
    "# yes the rehsaped_view alter the orig_array\n",
    "#80 >>>>>>>>Create a NumPy array `data` of shape (3, 4) with random integers. Extract a copy `data_copy` of elements greater than 5. Modify an element in `data_copy` and verify if it affects the original `data`."
   ]
  },
  {
   "cell_type": "code",
   "execution_count": 172,
   "id": "2470f1d6-aab0-4005-98a9-1dd8de76295d",
   "metadata": {},
   "outputs": [],
   "source": [
    "data=np.random.randint(0,10,(3,4))"
   ]
  },
  {
   "cell_type": "code",
   "execution_count": 173,
   "id": "c32658fc-39e2-4a25-8190-cd4a9d25a9ec",
   "metadata": {},
   "outputs": [
    {
     "data": {
      "text/plain": [
       "array([[9, 1, 7, 0],\n",
       "       [2, 9, 5, 4],\n",
       "       [8, 2, 6, 5]])"
      ]
     },
     "execution_count": 173,
     "metadata": {},
     "output_type": "execute_result"
    }
   ],
   "source": [
    "data"
   ]
  },
  {
   "cell_type": "code",
   "execution_count": 174,
   "id": "88b50dd3-9fc0-4f54-bf56-4481100b1d38",
   "metadata": {},
   "outputs": [],
   "source": [
    "data_copy=data[data>5]"
   ]
  },
  {
   "cell_type": "code",
   "execution_count": 175,
   "id": "6217115e-6d28-4601-99c1-2ceb5fb2c205",
   "metadata": {},
   "outputs": [
    {
     "data": {
      "text/plain": [
       "array([9, 7, 9, 8, 6])"
      ]
     },
     "execution_count": 175,
     "metadata": {},
     "output_type": "execute_result"
    }
   ],
   "source": [
    "data_copy"
   ]
  },
  {
   "cell_type": "code",
   "execution_count": 176,
   "id": "ad332995-d66b-4e82-8612-2331fc2b656c",
   "metadata": {},
   "outputs": [
    {
     "data": {
      "text/plain": [
       "array([ 9,  7,  9,  8, 22])"
      ]
     },
     "execution_count": 176,
     "metadata": {},
     "output_type": "execute_result"
    }
   ],
   "source": [
    "data_copy[4]=22\n",
    "data_copy"
   ]
  },
  {
   "cell_type": "code",
   "execution_count": 177,
   "id": "6541c573-682b-49c2-9284-257e0e6ebbcc",
   "metadata": {},
   "outputs": [
    {
     "data": {
      "text/plain": [
       "array([[9, 1, 7, 0],\n",
       "       [2, 9, 5, 4],\n",
       "       [8, 2, 6, 5]])"
      ]
     },
     "execution_count": 177,
     "metadata": {},
     "output_type": "execute_result"
    }
   ],
   "source": [
    "data"
   ]
  },
  {
   "cell_type": "code",
   "execution_count": 178,
   "id": "ea4eaa5c-8d01-449a-ace4-b6d7cc59158a",
   "metadata": {},
   "outputs": [
    {
     "data": {
      "text/plain": [
       "matrix([[ 3,  5,  7],\n",
       "        [ 6,  8, 11],\n",
       "        [ 3,  6, 12]])"
      ]
     },
     "execution_count": 178,
     "metadata": {},
     "output_type": "execute_result"
    }
   ],
   "source": [
    "# There is no change in the data due to change in the data_copy\n",
    "#81 >>>>> Create two matrices A and B of identical shape containing integers and perform addition and subtraction operations between them.\n",
    "matrix1=np.matrix([[1,2,3],[2,3,4],[2,4,8]])\n",
    "matrix2=np.matrix([[2,3,4],[4,5,7],[1,2,4]])\n",
    "matrix1+matrix2  # addition"
   ]
  },
  {
   "cell_type": "code",
   "execution_count": 179,
   "id": "fbe91f38-8ffc-4471-bfba-c80ad8b909a1",
   "metadata": {},
   "outputs": [
    {
     "data": {
      "text/plain": [
       "matrix([[ 1,  1,  1],\n",
       "        [ 2,  2,  3],\n",
       "        [-1, -2, -4]])"
      ]
     },
     "execution_count": 179,
     "metadata": {},
     "output_type": "execute_result"
    }
   ],
   "source": [
    "matrix2-matrix1  # subtraction"
   ]
  },
  {
   "cell_type": "code",
   "execution_count": 180,
   "id": "24c1ecd7-61a7-4b0a-a5d4-6f0b0e3d8c4b",
   "metadata": {},
   "outputs": [
    {
     "data": {
      "text/plain": [
       "array([[8, 2],\n",
       "       [3, 6],\n",
       "       [5, 4]])"
      ]
     },
     "execution_count": 180,
     "metadata": {},
     "output_type": "execute_result"
    }
   ],
   "source": [
    "#82 >>>>> Generate two matrices `C` (3x2) and `D` (2x4) and perform matrix multiplication.\n",
    "a=np.random.randint(1,10,(3,2))\n",
    "a"
   ]
  },
  {
   "cell_type": "code",
   "execution_count": 181,
   "id": "ac9dabaf-04a1-401a-a4e9-bd606f8509ae",
   "metadata": {},
   "outputs": [
    {
     "data": {
      "text/plain": [
       "matrix([[8, 2],\n",
       "        [3, 6],\n",
       "        [5, 4]])"
      ]
     },
     "execution_count": 181,
     "metadata": {},
     "output_type": "execute_result"
    }
   ],
   "source": [
    "matrix1=np.matrix(a)\n",
    "matrix1"
   ]
  },
  {
   "cell_type": "code",
   "execution_count": 182,
   "id": "6c200756-94e2-43aa-b810-092187b41e93",
   "metadata": {},
   "outputs": [
    {
     "data": {
      "text/plain": [
       "matrix([[4, 5, 7],\n",
       "        [6, 4, 2]])"
      ]
     },
     "execution_count": 182,
     "metadata": {},
     "output_type": "execute_result"
    }
   ],
   "source": [
    "b=np.random.randint(2,8,(2,3))\n",
    "matrix2=np.matrix(b)\n",
    "matrix2"
   ]
  },
  {
   "cell_type": "code",
   "execution_count": 183,
   "id": "997c6830-afd2-44b0-adb2-adca6aac7d75",
   "metadata": {},
   "outputs": [
    {
     "data": {
      "text/plain": [
       "matrix([[44, 48, 60],\n",
       "        [48, 39, 33],\n",
       "        [44, 41, 43]])"
      ]
     },
     "execution_count": 183,
     "metadata": {},
     "output_type": "execute_result"
    }
   ],
   "source": [
    "matrix1@matrix2"
   ]
  },
  {
   "cell_type": "code",
   "execution_count": 184,
   "id": "68ab18ba-b067-4163-aa6a-2538dd73b51b",
   "metadata": {},
   "outputs": [
    {
     "data": {
      "text/plain": [
       "matrix([[1, 2, 3],\n",
       "        [1, 3, 4],\n",
       "        [1, 3, 5]])"
      ]
     },
     "execution_count": 184,
     "metadata": {},
     "output_type": "execute_result"
    }
   ],
   "source": [
    "#83.Create a matrix `E` and find its transpose\n",
    "E=np.matrix([[1,2,3],[1,3,4],[1,3,5]])\n",
    "E"
   ]
  },
  {
   "cell_type": "code",
   "execution_count": 185,
   "id": "959c12ed-c8e8-48ed-ada8-9ee27654f5c0",
   "metadata": {},
   "outputs": [
    {
     "data": {
      "text/plain": [
       "matrix([[1, 1, 1],\n",
       "        [2, 3, 3],\n",
       "        [3, 4, 5]])"
      ]
     },
     "execution_count": 185,
     "metadata": {},
     "output_type": "execute_result"
    }
   ],
   "source": [
    "transpose_E=E.T\n",
    "transpose_E"
   ]
  },
  {
   "cell_type": "code",
   "execution_count": 186,
   "id": "60de89bd-07b9-4140-921d-9ee24078bc39",
   "metadata": {},
   "outputs": [
    {
     "data": {
      "text/plain": [
       "18.000000000000014"
      ]
     },
     "execution_count": 186,
     "metadata": {},
     "output_type": "execute_result"
    }
   ],
   "source": [
    "#84 >>>> Generate a square matrix `F` and compute its determinant.\n",
    "F=np.matrix([[1,5,3],[4,5,6],[7,8,9]])\n",
    "np.linalg.det(F)"
   ]
  },
  {
   "cell_type": "code",
   "execution_count": 187,
   "id": "7ced1e66-8fb3-4f75-a1b3-ed1ad6d593b6",
   "metadata": {},
   "outputs": [
    {
     "data": {
      "text/plain": [
       "matrix([[ 2.8, -1. , -0.6],\n",
       "        [-4.2,  2. ,  0.4],\n",
       "        [ 2. , -1. ,  0. ]])"
      ]
     },
     "execution_count": 187,
     "metadata": {},
     "output_type": "execute_result"
    }
   ],
   "source": [
    "#85 >>>>Create a square matrix `G` and find its inverse.\n",
    "G=np.matrix([[2,3,4],[4,6,7],[1,4,7]])\n",
    "np.linalg.inv(G)"
   ]
  },
  {
   "cell_type": "code",
   "execution_count": null,
   "id": "49da2fb1-b68b-42d5-8424-a6355904653d",
   "metadata": {},
   "outputs": [],
   "source": []
  }
 ],
 "metadata": {
  "kernelspec": {
   "display_name": "Python 3 (ipykernel)",
   "language": "python",
   "name": "python3"
  },
  "language_info": {
   "codemirror_mode": {
    "name": "ipython",
    "version": 3
   },
   "file_extension": ".py",
   "mimetype": "text/x-python",
   "name": "python",
   "nbconvert_exporter": "python",
   "pygments_lexer": "ipython3",
   "version": "3.10.8"
  }
 },
 "nbformat": 4,
 "nbformat_minor": 5
}
